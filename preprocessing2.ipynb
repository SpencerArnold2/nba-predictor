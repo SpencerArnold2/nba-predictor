{
 "cells": [
  {
   "cell_type": "code",
   "execution_count": 50,
   "metadata": {},
   "outputs": [],
   "source": [
    "import pandas as pd\n",
    "import numpy as np\n",
    "import matplotlib.pyplot as plt\n",
    "from sklearn.discriminant_analysis import StandardScaler\n",
    "from sklearn.model_selection import train_test_split\n",
    "from sklearn.preprocessing import LabelEncoder\n"
   ]
  },
  {
   "cell_type": "code",
   "execution_count": 51,
   "metadata": {},
   "outputs": [],
   "source": [
    "def import_data(data_path):\n",
    "    dtype_dict = {\"season_id\" : int}\n",
    "    data = pd.read_csv(data_path, dtype=dtype_dict)\n",
    "    return data"
   ]
  },
  {
   "cell_type": "code",
   "execution_count": 52,
   "metadata": {},
   "outputs": [],
   "source": [
    "def clean_data(data):\n",
    "    data = data[data['season_id'] >= 21985]\n",
    "    data = data.dropna()\n",
    "    data = data.drop_duplicates(subset='game_id')\n",
    "    data.drop(columns=['video_available_home', 'video_available_away', 'team_abbreviation_home', 'team_name_home', 'game_date', 'matchup_home', 'team_abbreviation_away', 'team_name_away', 'matchup_away', 'wl_away'], axis=1, inplace=True)\n",
    "    return data"
   ]
  },
  {
   "cell_type": "code",
   "execution_count": 53,
   "metadata": {},
   "outputs": [],
   "source": [
    "def encode_data(data):\n",
    "    categorical_columns = ['team_id_home', 'team_id_away', 'season_id']\n",
    "    dummies = pd.get_dummies(data, columns=categorical_columns)\n",
    "    # add dummy columns to original data\n",
    "    data = pd.concat([data, dummies], axis=1)\n",
    "    data.drop(columns=categorical_columns, axis=1, inplace=True)\n",
    "\n",
    "    label_mapping = {'W': 1, 'L': 0}\n",
    "    # map win/loss to 1/0\n",
    "    data['wl_home'] = data['wl_home'].replace(label_mapping)\n",
    "    # data['wl_home'] = data['wl_home'].map(label_mapping)\n",
    "    data = data.loc[:, ~data.columns.duplicated()]\n",
    "\n",
    "    return data"
   ]
  },
  {
   "cell_type": "code",
   "execution_count": 54,
   "metadata": {},
   "outputs": [],
   "source": [
    "def scale_data(data):\n",
    "    numerical_columns = ['min', 'fgm_home',\n",
    "       'fga_home', 'fg_pct_home', 'fg3m_home', 'fg3a_home', 'fg3_pct_home',\n",
    "       'ftm_home', 'fta_home', 'ft_pct_home', 'oreb_home', 'dreb_home',\n",
    "       'reb_home', 'ast_home', 'stl_home', 'blk_home', 'tov_home', 'pf_home',\n",
    "       'pts_home', 'plus_minus_home', 'fgm_away', 'fga_away', 'fg_pct_away', 'fg3m_away', 'fg3a_away',\n",
    "       'fg3_pct_away', 'ftm_away', 'fta_away', 'ft_pct_away', 'oreb_away',\n",
    "       'dreb_away', 'reb_away', 'ast_away', 'stl_away', 'blk_away', 'tov_away',\n",
    "       'pf_away', 'pts_away', 'plus_minus_away']\n",
    "    for column in numerical_columns:\n",
    "        # print(f\"Data shape: {data.shape}\")\n",
    "        # print(f\"Column '{column}' shape: {data[column].values.reshape(-1, 1).shape}\")\n",
    "        scaler = StandardScaler()\n",
    "        column_data = np.array(data[column]).reshape(-1, 1)\n",
    "        test_data = scaler.fit_transform(column_data)\n",
    "        data[f\"{column}\"] = test_data\n",
    "    return data"
   ]
  },
  {
   "cell_type": "code",
   "execution_count": 55,
   "metadata": {},
   "outputs": [],
   "source": [
    "def split_data(data):\n",
    "    X = data.drop(columns=['wl_home'])\n",
    "    y = data['wl_home']\n",
    "\n",
    "    X_train, X_test, y_train, y_test = train_test_split(X, y, test_size=0.2)\n",
    "    return X_train, X_test, y_train, y_test"
   ]
  },
  {
   "cell_type": "code",
   "execution_count": 56,
   "metadata": {},
   "outputs": [],
   "source": [
    "data_path = \"data/game.csv\"\n",
    "data = import_data(data_path)\n",
    "data = clean_data(data)\n",
    "data = encode_data(data)\n",
    "data = scale_data(data)\n",
    "X_train, X_test, y_train, y_test = split_data(data)\n"
   ]
  },
  {
   "cell_type": "code",
   "execution_count": null,
   "metadata": {},
   "outputs": [],
   "source": []
  },
  {
   "cell_type": "code",
   "execution_count": null,
   "metadata": {},
   "outputs": [],
   "source": []
  }
 ],
 "metadata": {
  "kernelspec": {
   "display_name": "pytorch",
   "language": "python",
   "name": "python3"
  },
  "language_info": {
   "codemirror_mode": {
    "name": "ipython",
    "version": 3
   },
   "file_extension": ".py",
   "mimetype": "text/x-python",
   "name": "python",
   "nbconvert_exporter": "python",
   "pygments_lexer": "ipython3",
   "version": "3.10.9"
  },
  "orig_nbformat": 4
 },
 "nbformat": 4,
 "nbformat_minor": 2
}
