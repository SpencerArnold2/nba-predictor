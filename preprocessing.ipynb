{
 "cells": [
  {
   "cell_type": "code",
   "execution_count": 1,
   "metadata": {},
   "outputs": [],
   "source": [
    "import pandas as pd\n",
    "import numpy as np\n",
    "import matplotlib.pyplot as plt"
   ]
  },
  {
   "cell_type": "code",
   "execution_count": 12,
   "metadata": {},
   "outputs": [
    {
     "data": {
      "text/plain": [
       "Index(['season_id', 'team_id_home', 'team_abbreviation_home', 'team_name_home',\n",
       "       'game_id', 'game_date', 'matchup_home', 'wl_home', 'min', 'fgm_home',\n",
       "       'fga_home', 'fg_pct_home', 'fg3m_home', 'fg3a_home', 'fg3_pct_home',\n",
       "       'ftm_home', 'fta_home', 'ft_pct_home', 'oreb_home', 'dreb_home',\n",
       "       'reb_home', 'ast_home', 'stl_home', 'blk_home', 'tov_home', 'pf_home',\n",
       "       'pts_home', 'plus_minus_home', 'video_available_home', 'team_id_away',\n",
       "       'team_abbreviation_away', 'team_name_away', 'matchup_away', 'wl_away',\n",
       "       'fgm_away', 'fga_away', 'fg_pct_away', 'fg3m_away', 'fg3a_away',\n",
       "       'fg3_pct_away', 'ftm_away', 'fta_away', 'ft_pct_away', 'oreb_away',\n",
       "       'dreb_away', 'reb_away', 'ast_away', 'stl_away', 'blk_away', 'tov_away',\n",
       "       'pf_away', 'pts_away', 'plus_minus_away', 'video_available_away'],\n",
       "      dtype='object')"
      ]
     },
     "execution_count": 12,
     "metadata": {},
     "output_type": "execute_result"
    }
   ],
   "source": [
    "dtype_dict = {\"season_id\" : int}\n",
    "data = pd.read_csv('data/game.csv', dtype=dtype_dict)\n",
    "data = data[data['season_id'] >= 21985]\n",
    "data.columns"
   ]
  },
  {
   "cell_type": "code",
   "execution_count": 15,
   "metadata": {},
   "outputs": [],
   "source": [
    "# group the dataframe by season_id\n",
    "grouped = data.groupby('season_id')\n",
    "\n",
    "# create a dictionary of dataframes, where each key is a unique season_id and the corresponding value is the subset of the original dataframe for that season\n",
    "season_dfs = {}\n",
    "for season_id, group in grouped:\n",
    "    season_dfs[season_id] = group.copy()\n",
    "\n",
    "for season_id, season_df in season_dfs.items():\n",
    "    season_df.to_csv(f\"data/season_split/{season_id}.csv\", index=False)"
   ]
  }
 ],
 "metadata": {
  "kernelspec": {
   "display_name": "pytorch",
   "language": "python",
   "name": "python3"
  },
  "language_info": {
   "codemirror_mode": {
    "name": "ipython",
    "version": 3
   },
   "file_extension": ".py",
   "mimetype": "text/x-python",
   "name": "python",
   "nbconvert_exporter": "python",
   "pygments_lexer": "ipython3",
   "version": "3.10.9"
  },
  "orig_nbformat": 4
 },
 "nbformat": 4,
 "nbformat_minor": 2
}
