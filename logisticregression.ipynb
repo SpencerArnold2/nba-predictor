{
 "cells": [
  {
   "cell_type": "code",
   "execution_count": 2,
   "metadata": {},
   "outputs": [],
   "source": [
    "import torch\n",
    "import torch.nn as nn\n",
    "import torch.optim as optim\n",
    "from torch.utils.data import DataLoader, TensorDataset\n",
    "import optuna"
   ]
  },
  {
   "cell_type": "code",
   "execution_count": 4,
   "metadata": {},
   "outputs": [],
   "source": [
    "from preprocessing import *\n",
    "data_path = \"data/game.csv\"\n",
    "X_train, X_test, y_train, y_test = prep_all(data_path)\n",
    "\n",
    "X_train = X_train.values.reshape(-1, 1, 136)  # Reshape to (32520, 1, 136)\n",
    "X_test = X_test.values.reshape(-1, 1, 136)    # Reshape to (N, 1, 136), where N is the number of test samples\n",
    "\n",
    "train_data = TensorDataset(torch.tensor(X_train), torch.tensor(y_train.to_numpy()))\n",
    "test_data = TensorDataset(torch.tensor(X_test), torch.tensor(y_test.to_numpy()))\n",
    "\n",
    "train_loader = DataLoader(train_data, batch_size=64, shuffle=True)\n",
    "valid_loader = DataLoader(test_data, batch_size=64, shuffle=False)"
   ]
  },
  {
   "cell_type": "code",
   "execution_count": 5,
   "metadata": {},
   "outputs": [],
   "source": [
    "class LogisticRegressionModel(nn.Module):\n",
    "    def __init__(self, input_size, output_size):\n",
    "        super(LogisticRegressionModel, self).__init__()\n",
    "        self.linear = nn.Linear(input_size, output_size)\n",
    "\n",
    "    def forward(self, x):\n",
    "        out = self.linear(x)\n",
    "        return out\n"
   ]
  },
  {
   "cell_type": "code",
   "execution_count": 6,
   "metadata": {},
   "outputs": [],
   "source": [
    "input_size = X_train.shape[2]  # The number of features in your preprocessed data\n",
    "output_size = 2  # Win or loss (binary classification)\n",
    "\n",
    "model = LogisticRegressionModel(input_size, output_size)\n",
    "\n",
    "criterion = nn.CrossEntropyLoss()\n",
    "optimizer = optim.SGD(model.parameters(), lr=0.01)\n"
   ]
  },
  {
   "cell_type": "code",
   "execution_count": 7,
   "metadata": {},
   "outputs": [
    {
     "name": "stdout",
     "output_type": "stream",
     "text": [
      "Epoch [1/100], Loss: 453910036480.0000\n",
      "Epoch [2/100], Loss: 807108739072.0000\n",
      "Epoch [3/100], Loss: 667323334656.0000\n",
      "Epoch [4/100], Loss: 2726778634240.0000\n",
      "Epoch [5/100], Loss: 277480865792.0000\n",
      "Epoch [6/100], Loss: 1008112369664.0000\n",
      "Epoch [7/100], Loss: 3087975055360.0000\n",
      "Epoch [8/100], Loss: 4031604588544.0000\n",
      "Epoch [9/100], Loss: 2228678819840.0000\n",
      "Epoch [10/100], Loss: 2525601988608.0000\n",
      "Epoch [11/100], Loss: 571748777984.0000\n",
      "Epoch [12/100], Loss: 1264720150528.0000\n",
      "Epoch [13/100], Loss: 789811429376.0000\n",
      "Epoch [14/100], Loss: 1186938617856.0000\n",
      "Epoch [15/100], Loss: 2269427531776.0000\n",
      "Epoch [16/100], Loss: 1229055983616.0000\n",
      "Epoch [17/100], Loss: 1737986015232.0000\n",
      "Epoch [18/100], Loss: 2102879191040.0000\n",
      "Epoch [19/100], Loss: 2761501966336.0000\n",
      "Epoch [20/100], Loss: 1101391724544.0000\n",
      "Epoch [21/100], Loss: 2110443225088.0000\n",
      "Epoch [22/100], Loss: 4222777032704.0000\n",
      "Epoch [23/100], Loss: 443160756224.0000\n",
      "Epoch [24/100], Loss: 4309106556928.0000\n",
      "Epoch [25/100], Loss: 73187131392.0000\n",
      "Epoch [26/100], Loss: 911687090176.0000\n",
      "Epoch [27/100], Loss: 1448413233152.0000\n",
      "Epoch [28/100], Loss: 2278985826304.0000\n",
      "Epoch [29/100], Loss: 842601070592.0000\n",
      "Epoch [30/100], Loss: 1960523857920.0000\n",
      "Epoch [31/100], Loss: 2537850667008.0000\n",
      "Epoch [32/100], Loss: 3114724753408.0000\n",
      "Epoch [33/100], Loss: 519801896960.0000\n",
      "Epoch [34/100], Loss: 1254461276160.0000\n",
      "Epoch [35/100], Loss: 749309591552.0000\n",
      "Epoch [36/100], Loss: 2116168056832.0000\n",
      "Epoch [37/100], Loss: 364153995264.0000\n",
      "Epoch [38/100], Loss: 2010861142016.0000\n",
      "Epoch [39/100], Loss: 1137671667712.0000\n",
      "Epoch [40/100], Loss: 508611002368.0000\n",
      "Epoch [41/100], Loss: 1668500160512.0000\n",
      "Epoch [42/100], Loss: 2253864828928.0000\n",
      "Epoch [43/100], Loss: 518052610048.0000\n",
      "Epoch [44/100], Loss: 363713167360.0000\n",
      "Epoch [45/100], Loss: 124887302144.0000\n",
      "Epoch [46/100], Loss: 578290974720.0000\n",
      "Epoch [47/100], Loss: 456200257536.0000\n"
     ]
    }
   ],
   "source": [
    "num_epochs = 10000\n",
    "\n",
    "for epoch in range(num_epochs):\n",
    "    for i, (inputs, labels) in enumerate(train_loader):\n",
    "        inputs, labels = inputs.squeeze(1).float(), labels.long()\n",
    "\n",
    "        # Forward pass\n",
    "        outputs = model(inputs)\n",
    "        loss = criterion(outputs, labels)\n",
    "\n",
    "        # Backward pass and optimization\n",
    "        optimizer.zero_grad()\n",
    "        loss.backward()\n",
    "        optimizer.step()\n",
    "\n",
    "    print(f'Epoch [{epoch+1}/{num_epochs}], Loss: {loss.item():.4f}')\n"
   ]
  },
  {
   "cell_type": "code",
   "execution_count": null,
   "metadata": {},
   "outputs": [],
   "source": [
    "with torch.no_grad():\n",
    "    correct = 0\n",
    "    total = 0\n",
    "    for inputs, labels in valid_loader:\n",
    "        inputs, labels = inputs.squeeze(1).float(), labels.long()\n",
    "        outputs = model(inputs)\n",
    "        _, predicted = torch.max(outputs.data, 1)\n",
    "        total += labels.size(0)\n",
    "        correct += (predicted == labels).sum().item()\n",
    "\n",
    "    print(f'Test Accuracy: {100 * correct / total:.2f}%')\n"
   ]
  }
 ],
 "metadata": {
  "kernelspec": {
   "display_name": "pytorch",
   "language": "python",
   "name": "python3"
  },
  "language_info": {
   "codemirror_mode": {
    "name": "ipython",
    "version": 3
   },
   "file_extension": ".py",
   "mimetype": "text/x-python",
   "name": "python",
   "nbconvert_exporter": "python",
   "pygments_lexer": "ipython3",
   "version": "3.10.9"
  },
  "orig_nbformat": 4
 },
 "nbformat": 4,
 "nbformat_minor": 2
}
