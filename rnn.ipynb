{
 "cells": [
  {
   "cell_type": "code",
   "execution_count": 2,
   "metadata": {},
   "outputs": [
    {
     "name": "stderr",
     "output_type": "stream",
     "text": [
      "/Users/spencer/Desktop/Repos/nba-predictor/preprocessing.py:43: FutureWarning: Dropping of nuisance columns in rolling operations is deprecated; in a future version this will raise TypeError. Select only valid columns before calling the operation. Dropped columns were Index(['matchup', 'team_abbreviation', 'team_name', 'wl'], dtype='object')\n",
      "  rolling_averages = grouped[columns_to_average].apply(lambda x: x.rolling(window=len(x), min_periods=1).mean().shift(1))\n",
      "/Users/spencer/Desktop/Repos/nba-predictor/preprocessing.py:43: FutureWarning: Not prepending group keys to the result index of transform-like apply. In the future, the group keys will be included in the index, regardless of whether the applied function returns a like-indexed object.\n",
      "To preserve the previous behavior, use\n",
      "\n",
      "\t>>> .groupby(..., group_keys=False)\n",
      "\n",
      "To adopt the future behavior and silence this warning, use \n",
      "\n",
      "\t>>> .groupby(..., group_keys=True)\n",
      "  rolling_averages = grouped[columns_to_average].apply(lambda x: x.rolling(window=len(x), min_periods=1).mean().shift(1))\n",
      "/Users/spencer/Desktop/Repos/nba-predictor/preprocessing.py:62: FutureWarning: The default value of regex will change from True to False in a future version.\n",
      "  df.columns = df.columns.str.replace('_y$', '')\n"
     ]
    }
   ],
   "source": [
    "from preprocessing import *\n",
    "data_path = \"data/game.csv\"\n",
    "X_train, X_test, y_train, y_test = prep_all(data_path)\n",
    "# y_test.drop()"
   ]
  },
  {
   "cell_type": "code",
   "execution_count": 3,
   "metadata": {},
   "outputs": [],
   "source": [
    "X_train = X_train.values.reshape(-1, 1, 135)  # Reshape to (32520, 1, 136)\n",
    "X_test = X_test.values.reshape(-1, 1, 135)    # Reshape to (N, 1, 136), where N is the number of test samples\n"
   ]
  },
  {
   "cell_type": "code",
   "execution_count": 5,
   "metadata": {},
   "outputs": [],
   "source": [
    "import torch\n",
    "import torch.nn as nn\n",
    "import torch.optim as optim\n",
    "from torch.utils.data import DataLoader, TensorDataset\n",
    "import optuna"
   ]
  },
  {
   "cell_type": "code",
   "execution_count": 6,
   "metadata": {},
   "outputs": [],
   "source": [
    "train_data = TensorDataset(torch.tensor(X_train), torch.tensor(y_train.to_numpy()))\n",
    "test_data = TensorDataset(torch.tensor(X_test), torch.tensor(y_test.to_numpy()))\n",
    "\n",
    "train_loader = DataLoader(train_data, batch_size=64, shuffle=True)\n",
    "valid_loader = DataLoader(test_data, batch_size=64, shuffle=False)\n"
   ]
  },
  {
   "cell_type": "code",
   "execution_count": 7,
   "metadata": {},
   "outputs": [],
   "source": [
    "\n",
    "class RNN(nn.Module):\n",
    "    def __init__(self, input_size, hidden_size, output_size, num_layers):\n",
    "        super(RNN, self).__init__()\n",
    "        self.hidden_size = hidden_size\n",
    "        self.num_layers = num_layers\n",
    "        self.rnn = nn.RNN(input_size, hidden_size, num_layers, batch_first=True)\n",
    "        self.fc = nn.Linear(hidden_size, output_size)\n",
    "\n",
    "    def forward(self, x):\n",
    "        # Set initial hidden and cell states\n",
    "        h0 = torch.zeros(self.num_layers, x.size(0), self.hidden_size)\n",
    "\n",
    "        # Forward propagate RNN\n",
    "        out, _ = self.rnn(x, h0)\n",
    "\n",
    "        # Decode the hidden state of the last time step\n",
    "        out = self.fc(out[:, -1, :])\n",
    "        out = nn.functional.softmax(out, dim=1)\n",
    "        return out\n"
   ]
  },
  {
   "cell_type": "code",
   "execution_count": 26,
   "metadata": {},
   "outputs": [
    {
     "name": "stdout",
     "output_type": "stream",
     "text": [
      "Epoch [1/20], Loss: 0.5743\n",
      "Epoch [2/20], Loss: 0.5922\n",
      "Epoch [3/20], Loss: 0.6731\n",
      "Epoch [4/20], Loss: 0.7222\n",
      "Epoch [5/20], Loss: 0.5935\n",
      "Epoch [6/20], Loss: 0.5728\n",
      "Epoch [7/20], Loss: 0.5434\n",
      "Epoch [8/20], Loss: 0.6114\n",
      "Epoch [9/20], Loss: 0.5644\n",
      "Epoch [10/20], Loss: 0.6399\n",
      "Epoch [11/20], Loss: 0.6092\n",
      "Epoch [12/20], Loss: 0.4779\n",
      "Epoch [13/20], Loss: 0.6133\n",
      "Epoch [14/20], Loss: 0.6097\n",
      "Epoch [15/20], Loss: 0.5379\n",
      "Epoch [16/20], Loss: 0.5967\n",
      "Epoch [17/20], Loss: 0.5202\n",
      "Epoch [18/20], Loss: 0.6044\n",
      "Epoch [19/20], Loss: 0.5976\n",
      "Epoch [20/20], Loss: 0.5545\n"
     ]
    }
   ],
   "source": [
    "input_size = 135\n",
    "output_size = 2\n",
    "device = torch.device(\"cpu\")\n",
    "hidden_size = 32\n",
    "num_layers = 4\n",
    "learning_rate = 0.001\n",
    "num_epochs = 20\n",
    "model = RNN(input_size, hidden_size, output_size, num_layers).to(device)\n",
    "criterion = nn.CrossEntropyLoss()\n",
    "optimizer = optim.Adam(model.parameters(), lr=learning_rate)\n",
    "\n",
    "def train(model, train_loader, optimizer, criterion, num_epochs=10):\n",
    "    for epoch in range(num_epochs):\n",
    "        for i, (inputs, labels) in enumerate(train_loader):\n",
    "            inputs, labels = inputs.float().to(device), labels.long().to(device)\n",
    "\n",
    "            # Forward pass\n",
    "            outputs = model(inputs)\n",
    "            loss = criterion(outputs, labels)\n",
    "\n",
    "            # Backward pass and optimization\n",
    "            optimizer.zero_grad()\n",
    "            loss.backward()\n",
    "            optimizer.step()\n",
    "        print(f'Epoch [{epoch+1}/{num_epochs}], Loss: {loss.item():.4f}')\n",
    "\n",
    "train(model, train_loader, optimizer, criterion, num_epochs)\n"
   ]
  },
  {
   "cell_type": "code",
   "execution_count": 27,
   "metadata": {},
   "outputs": [
    {
     "name": "stdout",
     "output_type": "stream",
     "text": [
      "Test Accuracy: 65.51%\n"
     ]
    }
   ],
   "source": [
    "model.eval()\n",
    "with torch.no_grad():\n",
    "    correct = 0\n",
    "    total = 0\n",
    "    for inputs, labels in valid_loader:\n",
    "        inputs, labels = inputs.float(), labels.long()\n",
    "        outputs = model(inputs)\n",
    "        _, predicted = torch.max(outputs.data, 1)\n",
    "        total += labels.size(0)\n",
    "        correct += (predicted == labels).sum().item()\n",
    "    val_acc = correct / total\n",
    "    print(f'Test Accuracy: {100 * correct / total:.2f}%')\n"
   ]
  },
  {
   "cell_type": "code",
   "execution_count": 20,
   "metadata": {},
   "outputs": [],
   "source": [
    "def train_model(model, train_loader, criterion, optimizer, device):\n",
    "    for epoch in range(num_epochs):\n",
    "        for i, (inputs, labels) in enumerate(train_loader):\n",
    "            inputs, labels = inputs.float().to(device), labels.long().to(device)\n",
    "\n",
    "            # Forward pass\n",
    "            outputs = model(inputs)\n",
    "            loss = criterion(outputs, labels)\n",
    "\n",
    "            # Backward pass and optimization\n",
    "            optimizer.zero_grad()\n",
    "            loss.backward()\n",
    "            optimizer.step()\n",
    "        \n",
    "\n",
    "def evaluate_model(model, valid_loader, device):\n",
    "    model.eval()\n",
    "    with torch.no_grad():\n",
    "        correct = 0\n",
    "        total = 0\n",
    "        for inputs, labels in valid_loader:\n",
    "            inputs, labels = inputs.float(), labels.long()\n",
    "            outputs = model(inputs)\n",
    "            _, predicted = torch.max(outputs.data, 1)\n",
    "            total += labels.size(0)\n",
    "            correct += (predicted == labels).sum().item()\n",
    "        val_acc = correct / total\n",
    "        print(f'Epoch [{epoch+1}/{num_epochs}], Loss: {loss.item():.4f}, Validation Acc: {100 * correct / total:.2f}%')\n",
    "\n",
    "def objective(trial):\n",
    "    # Define hyperparameters\n",
    "    hidden_size = trial.suggest_int(\"hidden_size\", 16, 512)\n",
    "    num_layers = trial.suggest_int(\"num_layers\", 1, 3)\n",
    "    learning_rate = trial.suggest_float(\"learning_rate\", 1e-5, 1e-2)\n",
    "\n",
    "    # Create the RNN model\n",
    "    model = RNN(input_size, hidden_size, output_size, num_layers).to(device)\n",
    "\n",
    "    # Define loss function and optimizer\n",
    "    criterion = nn.CrossEntropyLoss()\n",
    "    optimizer = optim.Adam(model.parameters(), lr=learning_rate)\n",
    "\n",
    "    # Train the model\n",
    "    num_epochs = 20\n",
    "    for epoch in range(num_epochs):\n",
    "        for i, (inputs, labels) in enumerate(train_loader):\n",
    "            inputs, labels = inputs.float().to(device), labels.long().to(device)\n",
    "\n",
    "            # Forward pass\n",
    "            outputs = model(inputs)\n",
    "            loss = criterion(outputs, labels)\n",
    "\n",
    "            # Backward pass and optimization\n",
    "            optimizer.zero_grad()\n",
    "            loss.backward()\n",
    "            optimizer.step()\n",
    "\n",
    "        model.eval()\n",
    "        with torch.no_grad():\n",
    "            correct = 0\n",
    "            total = 0\n",
    "            for inputs, labels in valid_loader:\n",
    "                inputs, labels = inputs.float(), labels.long()\n",
    "                outputs = model(inputs)\n",
    "                _, predicted = torch.max(outputs.data, 1)\n",
    "                total += labels.size(0)\n",
    "                correct += (predicted == labels).sum().item()\n",
    "            val_acc = correct / total * 100\n",
    "            print(f'Epoch [{epoch+1}/{num_epochs}], Loss: {loss.item():.4f}, Validation Acc: {100 * correct / total:.2f}%')\n",
    "\n",
    "        trial.report(val_acc, epoch)\n",
    "\n",
    "        if trial.should_prune():\n",
    "            raise optuna.exceptions.TrialPruned()\n",
    "\n",
    "    return val_acc\n"
   ]
  },
  {
   "cell_type": "code",
   "execution_count": 21,
   "metadata": {},
   "outputs": [
    {
     "name": "stderr",
     "output_type": "stream",
     "text": [
      "\u001b[32m[I 2023-05-03 03:15:21,850]\u001b[0m A new study created in memory with name: no-name-a6182ade-ed06-49ef-92a8-46a1f8aea1c9\u001b[0m\n"
     ]
    },
    {
     "name": "stdout",
     "output_type": "stream",
     "text": [
      "Epoch [1/20], Loss: 0.5440, Validation Acc: 66.28%\n",
      "Epoch [2/20], Loss: 0.6488, Validation Acc: 66.65%\n",
      "Epoch [3/20], Loss: 0.5920, Validation Acc: 66.45%\n",
      "Epoch [4/20], Loss: 0.6001, Validation Acc: 66.87%\n",
      "Epoch [5/20], Loss: 0.5309, Validation Acc: 66.38%\n",
      "Epoch [6/20], Loss: 0.5409, Validation Acc: 66.61%\n",
      "Epoch [7/20], Loss: 0.5811, Validation Acc: 66.80%\n",
      "Epoch [8/20], Loss: 0.6706, Validation Acc: 66.77%\n",
      "Epoch [9/20], Loss: 0.5863, Validation Acc: 66.22%\n",
      "Epoch [10/20], Loss: 0.6089, Validation Acc: 66.75%\n",
      "Epoch [11/20], Loss: 0.7111, Validation Acc: 65.10%\n",
      "Epoch [12/20], Loss: 0.6184, Validation Acc: 66.26%\n",
      "Epoch [13/20], Loss: 0.6020, Validation Acc: 66.56%\n",
      "Epoch [14/20], Loss: 0.6398, Validation Acc: 65.56%\n",
      "Epoch [15/20], Loss: 0.5625, Validation Acc: 66.10%\n",
      "Epoch [16/20], Loss: 0.6017, Validation Acc: 65.73%\n",
      "Epoch [17/20], Loss: 0.6390, Validation Acc: 66.37%\n",
      "Epoch [18/20], Loss: 0.4970, Validation Acc: 65.55%\n",
      "Epoch [19/20], Loss: 0.7054, Validation Acc: 65.96%\n"
     ]
    },
    {
     "name": "stderr",
     "output_type": "stream",
     "text": [
      "\u001b[32m[I 2023-05-03 03:22:14,821]\u001b[0m Trial 0 finished with value: 65.7723983029698 and parameters: {'hidden_size': 310, 'num_layers': 3, 'learning_rate': 0.001050439342929995}. Best is trial 0 with value: 65.7723983029698.\u001b[0m\n"
     ]
    },
    {
     "name": "stdout",
     "output_type": "stream",
     "text": [
      "Epoch [20/20], Loss: 0.5095, Validation Acc: 65.77%\n",
      "Epoch [1/20], Loss: 0.6108, Validation Acc: 65.92%\n",
      "Epoch [2/20], Loss: 0.5598, Validation Acc: 65.92%\n",
      "Epoch [3/20], Loss: 0.6975, Validation Acc: 66.96%\n",
      "Epoch [4/20], Loss: 0.5277, Validation Acc: 66.62%\n",
      "Epoch [5/20], Loss: 0.5475, Validation Acc: 65.01%\n",
      "Epoch [6/20], Loss: 0.5140, Validation Acc: 65.86%\n",
      "Epoch [7/20], Loss: 0.6293, Validation Acc: 65.71%\n",
      "Epoch [8/20], Loss: 0.5466, Validation Acc: 66.75%\n",
      "Epoch [9/20], Loss: 0.6089, Validation Acc: 65.80%\n",
      "Epoch [10/20], Loss: 0.5591, Validation Acc: 66.28%\n",
      "Epoch [11/20], Loss: 0.6337, Validation Acc: 66.32%\n",
      "Epoch [12/20], Loss: 0.6436, Validation Acc: 66.77%\n",
      "Epoch [13/20], Loss: 0.6143, Validation Acc: 66.07%\n",
      "Epoch [14/20], Loss: 0.6855, Validation Acc: 66.37%\n",
      "Epoch [15/20], Loss: 0.7107, Validation Acc: 65.49%\n",
      "Epoch [16/20], Loss: 0.5604, Validation Acc: 66.27%\n",
      "Epoch [17/20], Loss: 0.5689, Validation Acc: 65.83%\n",
      "Epoch [18/20], Loss: 0.5809, Validation Acc: 65.35%\n",
      "Epoch [19/20], Loss: 0.6821, Validation Acc: 65.62%\n"
     ]
    },
    {
     "name": "stderr",
     "output_type": "stream",
     "text": [
      "\u001b[32m[I 2023-05-03 03:28:28,704]\u001b[0m Trial 1 finished with value: 66.4711754429748 and parameters: {'hidden_size': 270, 'num_layers': 3, 'learning_rate': 0.001569712781075145}. Best is trial 1 with value: 66.4711754429748.\u001b[0m\n"
     ]
    },
    {
     "name": "stdout",
     "output_type": "stream",
     "text": [
      "Epoch [20/20], Loss: 0.5799, Validation Acc: 66.47%\n",
      "Epoch [1/20], Loss: 0.5713, Validation Acc: 66.30%\n",
      "Epoch [2/20], Loss: 0.6495, Validation Acc: 65.56%\n",
      "Epoch [3/20], Loss: 0.5902, Validation Acc: 66.57%\n",
      "Epoch [4/20], Loss: 0.6392, Validation Acc: 66.60%\n",
      "Epoch [5/20], Loss: 0.6591, Validation Acc: 65.90%\n",
      "Epoch [6/20], Loss: 0.6780, Validation Acc: 66.28%\n",
      "Epoch [7/20], Loss: 0.5825, Validation Acc: 66.17%\n",
      "Epoch [8/20], Loss: 0.6203, Validation Acc: 65.91%\n",
      "Epoch [9/20], Loss: 0.5885, Validation Acc: 65.86%\n",
      "Epoch [10/20], Loss: 0.5566, Validation Acc: 66.55%\n",
      "Epoch [11/20], Loss: 0.5573, Validation Acc: 66.46%\n",
      "Epoch [12/20], Loss: 0.6131, Validation Acc: 66.16%\n",
      "Epoch [13/20], Loss: 0.6485, Validation Acc: 66.22%\n",
      "Epoch [14/20], Loss: 0.6286, Validation Acc: 65.72%\n",
      "Epoch [15/20], Loss: 0.6105, Validation Acc: 66.57%\n",
      "Epoch [16/20], Loss: 0.5558, Validation Acc: 65.76%\n",
      "Epoch [17/20], Loss: 0.5890, Validation Acc: 64.81%\n",
      "Epoch [18/20], Loss: 0.4891, Validation Acc: 65.49%\n",
      "Epoch [19/20], Loss: 0.5232, Validation Acc: 64.81%\n"
     ]
    },
    {
     "name": "stderr",
     "output_type": "stream",
     "text": [
      "\u001b[32m[I 2023-05-03 03:40:26,352]\u001b[0m Trial 2 finished with value: 65.44796605939605 and parameters: {'hidden_size': 121, 'num_layers': 3, 'learning_rate': 0.0028872706435066134}. Best is trial 1 with value: 66.4711754429748.\u001b[0m\n"
     ]
    },
    {
     "name": "stdout",
     "output_type": "stream",
     "text": [
      "Epoch [20/20], Loss: 0.5743, Validation Acc: 65.45%\n",
      "Epoch [1/20], Loss: 0.6238, Validation Acc: 66.80%\n",
      "Epoch [2/20], Loss: 0.5049, Validation Acc: 66.38%\n",
      "Epoch [3/20], Loss: 0.6108, Validation Acc: 66.91%\n",
      "Epoch [4/20], Loss: 0.5557, Validation Acc: 66.46%\n",
      "Epoch [5/20], Loss: 0.6002, Validation Acc: 66.61%\n",
      "Epoch [6/20], Loss: 0.6402, Validation Acc: 66.03%\n",
      "Epoch [7/20], Loss: 0.6008, Validation Acc: 66.38%\n",
      "Epoch [8/20], Loss: 0.6272, Validation Acc: 66.30%\n",
      "Epoch [9/20], Loss: 0.6726, Validation Acc: 66.82%\n",
      "Epoch [10/20], Loss: 0.5642, Validation Acc: 66.45%\n",
      "Epoch [11/20], Loss: 0.6272, Validation Acc: 66.28%\n",
      "Epoch [12/20], Loss: 0.5058, Validation Acc: 66.81%\n",
      "Epoch [13/20], Loss: 0.5982, Validation Acc: 66.36%\n",
      "Epoch [14/20], Loss: 0.5324, Validation Acc: 66.58%\n",
      "Epoch [15/20], Loss: 0.6450, Validation Acc: 66.18%\n",
      "Epoch [16/20], Loss: 0.5202, Validation Acc: 65.49%\n",
      "Epoch [17/20], Loss: 0.6493, Validation Acc: 65.82%\n",
      "Epoch [18/20], Loss: 0.5253, Validation Acc: 65.17%\n",
      "Epoch [19/20], Loss: 0.6315, Validation Acc: 65.12%\n"
     ]
    },
    {
     "name": "stderr",
     "output_type": "stream",
     "text": [
      "\u001b[32m[I 2023-05-03 07:17:18,007]\u001b[0m Trial 3 finished with value: 65.53531320189668 and parameters: {'hidden_size': 210, 'num_layers': 1, 'learning_rate': 0.0031487072668564173}. Best is trial 1 with value: 66.4711754429748.\u001b[0m\n"
     ]
    },
    {
     "name": "stdout",
     "output_type": "stream",
     "text": [
      "Epoch [20/20], Loss: 0.5967, Validation Acc: 65.54%\n",
      "Epoch [1/20], Loss: 0.6660, Validation Acc: 66.85%\n",
      "Epoch [2/20], Loss: 0.6904, Validation Acc: 66.91%\n",
      "Epoch [3/20], Loss: 0.6622, Validation Acc: 67.00%\n",
      "Epoch [4/20], Loss: 0.5837, Validation Acc: 66.88%\n",
      "Epoch [5/20], Loss: 0.6389, Validation Acc: 66.75%\n",
      "Epoch [6/20], Loss: 0.5973, Validation Acc: 66.23%\n",
      "Epoch [7/20], Loss: 0.5776, Validation Acc: 66.50%\n",
      "Epoch [8/20], Loss: 0.6418, Validation Acc: 66.85%\n",
      "Epoch [9/20], Loss: 0.6288, Validation Acc: 66.60%\n",
      "Epoch [10/20], Loss: 0.5742, Validation Acc: 66.60%\n",
      "Epoch [11/20], Loss: 0.6286, Validation Acc: 67.10%\n",
      "Epoch [12/20], Loss: 0.6348, Validation Acc: 66.56%\n",
      "Epoch [13/20], Loss: 0.5934, Validation Acc: 66.68%\n",
      "Epoch [14/20], Loss: 0.6060, Validation Acc: 67.24%\n",
      "Epoch [15/20], Loss: 0.5757, Validation Acc: 66.45%\n",
      "Epoch [16/20], Loss: 0.5931, Validation Acc: 67.10%\n",
      "Epoch [17/20], Loss: 0.6416, Validation Acc: 66.66%\n",
      "Epoch [18/20], Loss: 0.5628, Validation Acc: 66.50%\n",
      "Epoch [19/20], Loss: 0.5066, Validation Acc: 66.40%\n"
     ]
    },
    {
     "name": "stderr",
     "output_type": "stream",
     "text": [
      "\u001b[32m[I 2023-05-03 07:30:03,582]\u001b[0m Trial 4 finished with value: 66.08435238332918 and parameters: {'hidden_size': 114, 'num_layers': 1, 'learning_rate': 0.0013350322327130677}. Best is trial 1 with value: 66.4711754429748.\u001b[0m\n"
     ]
    },
    {
     "name": "stdout",
     "output_type": "stream",
     "text": [
      "Epoch [20/20], Loss: 0.6937, Validation Acc: 66.08%\n",
      "Epoch [1/20], Loss: 0.6223, Validation Acc: 66.53%\n",
      "Epoch [2/20], Loss: 0.6121, Validation Acc: 66.77%\n"
     ]
    },
    {
     "name": "stderr",
     "output_type": "stream",
     "text": [
      "\u001b[32m[I 2023-05-03 07:31:08,611]\u001b[0m Trial 5 pruned. \u001b[0m\n"
     ]
    },
    {
     "name": "stdout",
     "output_type": "stream",
     "text": [
      "Epoch [3/20], Loss: 0.5882, Validation Acc: 66.65%\n",
      "Epoch [1/20], Loss: 0.5787, Validation Acc: 66.70%\n",
      "Epoch [2/20], Loss: 0.6867, Validation Acc: 66.30%\n"
     ]
    },
    {
     "name": "stderr",
     "output_type": "stream",
     "text": [
      "\u001b[32m[I 2023-05-03 07:43:19,743]\u001b[0m Trial 6 pruned. \u001b[0m\n"
     ]
    },
    {
     "name": "stdout",
     "output_type": "stream",
     "text": [
      "Epoch [3/20], Loss: 0.6117, Validation Acc: 66.40%\n",
      "Epoch [1/20], Loss: 0.6932, Validation Acc: 66.35%\n"
     ]
    },
    {
     "name": "stderr",
     "output_type": "stream",
     "text": [
      "\u001b[32m[I 2023-05-03 07:56:23,696]\u001b[0m Trial 7 pruned. \u001b[0m\n"
     ]
    },
    {
     "name": "stdout",
     "output_type": "stream",
     "text": [
      "Epoch [2/20], Loss: 0.6342, Validation Acc: 64.67%\n"
     ]
    },
    {
     "name": "stderr",
     "output_type": "stream",
     "text": [
      "\u001b[32m[I 2023-05-03 07:56:41,709]\u001b[0m Trial 8 pruned. \u001b[0m\n"
     ]
    },
    {
     "name": "stdout",
     "output_type": "stream",
     "text": [
      "Epoch [1/20], Loss: 0.6270, Validation Acc: 66.07%\n",
      "Epoch [1/20], Loss: 0.7324, Validation Acc: 66.60%\n",
      "Epoch [2/20], Loss: 0.6165, Validation Acc: 66.40%\n"
     ]
    },
    {
     "name": "stderr",
     "output_type": "stream",
     "text": [
      "\u001b[32m[I 2023-05-03 08:21:08,302]\u001b[0m Trial 9 pruned. \u001b[0m\n"
     ]
    },
    {
     "name": "stdout",
     "output_type": "stream",
     "text": [
      "Epoch [3/20], Loss: 0.6178, Validation Acc: 66.37%\n"
     ]
    },
    {
     "name": "stderr",
     "output_type": "stream",
     "text": [
      "\u001b[32m[I 2023-05-03 08:23:26,363]\u001b[0m Trial 10 pruned. \u001b[0m\n"
     ]
    },
    {
     "name": "stdout",
     "output_type": "stream",
     "text": [
      "Epoch [1/20], Loss: 0.6056, Validation Acc: 65.52%\n",
      "Epoch [1/20], Loss: 0.6567, Validation Acc: 67.02%\n",
      "Epoch [2/20], Loss: 0.6839, Validation Acc: 67.05%\n",
      "Epoch [3/20], Loss: 0.5825, Validation Acc: 66.62%\n",
      "Epoch [4/20], Loss: 0.6683, Validation Acc: 67.01%\n",
      "Epoch [5/20], Loss: 0.6761, Validation Acc: 67.06%\n",
      "Epoch [6/20], Loss: 0.5801, Validation Acc: 66.77%\n",
      "Epoch [7/20], Loss: 0.6149, Validation Acc: 66.57%\n",
      "Epoch [8/20], Loss: 0.6138, Validation Acc: 67.28%\n",
      "Epoch [9/20], Loss: 0.6681, Validation Acc: 67.00%\n",
      "Epoch [10/20], Loss: 0.7310, Validation Acc: 66.95%\n",
      "Epoch [11/20], Loss: 0.6299, Validation Acc: 67.01%\n",
      "Epoch [12/20], Loss: 0.5216, Validation Acc: 66.73%\n",
      "Epoch [13/20], Loss: 0.5572, Validation Acc: 66.80%\n",
      "Epoch [14/20], Loss: 0.6705, Validation Acc: 66.83%\n",
      "Epoch [15/20], Loss: 0.5788, Validation Acc: 66.75%\n",
      "Epoch [16/20], Loss: 0.6695, Validation Acc: 66.67%\n",
      "Epoch [17/20], Loss: 0.5840, Validation Acc: 66.77%\n",
      "Epoch [18/20], Loss: 0.6184, Validation Acc: 66.83%\n",
      "Epoch [19/20], Loss: 0.6845, Validation Acc: 66.76%\n"
     ]
    },
    {
     "name": "stderr",
     "output_type": "stream",
     "text": [
      "\u001b[32m[I 2023-05-03 08:44:23,994]\u001b[0m Trial 11 finished with value: 66.8080858497629 and parameters: {'hidden_size': 43, 'num_layers': 2, 'learning_rate': 0.0002975166563027932}. Best is trial 11 with value: 66.8080858497629.\u001b[0m\n"
     ]
    },
    {
     "name": "stdout",
     "output_type": "stream",
     "text": [
      "Epoch [20/20], Loss: 0.6566, Validation Acc: 66.81%\n",
      "Epoch [1/20], Loss: 0.6591, Validation Acc: 66.56%\n",
      "Epoch [2/20], Loss: 0.5763, Validation Acc: 66.23%\n",
      "Epoch [3/20], Loss: 0.6569, Validation Acc: 66.85%\n",
      "Epoch [4/20], Loss: 0.6190, Validation Acc: 66.17%\n",
      "Epoch [5/20], Loss: 0.5776, Validation Acc: 66.43%\n",
      "Epoch [6/20], Loss: 0.5851, Validation Acc: 66.40%\n",
      "Epoch [7/20], Loss: 0.5951, Validation Acc: 66.45%\n",
      "Epoch [8/20], Loss: 0.5387, Validation Acc: 66.45%\n",
      "Epoch [9/20], Loss: 0.5933, Validation Acc: 66.61%\n",
      "Epoch [10/20], Loss: 0.5963, Validation Acc: 66.43%\n",
      "Epoch [11/20], Loss: 0.6126, Validation Acc: 66.01%\n",
      "Epoch [12/20], Loss: 0.6246, Validation Acc: 65.42%\n",
      "Epoch [13/20], Loss: 0.6323, Validation Acc: 66.08%\n",
      "Epoch [14/20], Loss: 0.6173, Validation Acc: 66.43%\n",
      "Epoch [15/20], Loss: 0.5645, Validation Acc: 65.93%\n",
      "Epoch [16/20], Loss: 0.5420, Validation Acc: 66.22%\n",
      "Epoch [17/20], Loss: 0.6528, Validation Acc: 65.65%\n",
      "Epoch [18/20], Loss: 0.5681, Validation Acc: 66.12%\n",
      "Epoch [19/20], Loss: 0.5596, Validation Acc: 65.49%\n"
     ]
    },
    {
     "name": "stderr",
     "output_type": "stream",
     "text": [
      "\u001b[32m[I 2023-05-03 08:45:20,167]\u001b[0m Trial 12 finished with value: 66.1716995258298 and parameters: {'hidden_size': 16, 'num_layers': 3, 'learning_rate': 0.009946887744236028}. Best is trial 11 with value: 66.8080858497629.\u001b[0m\n"
     ]
    },
    {
     "name": "stdout",
     "output_type": "stream",
     "text": [
      "Epoch [20/20], Loss: 0.6066, Validation Acc: 66.17%\n"
     ]
    },
    {
     "name": "stderr",
     "output_type": "stream",
     "text": [
      "\u001b[32m[I 2023-05-03 08:45:27,853]\u001b[0m Trial 13 pruned. \u001b[0m\n"
     ]
    },
    {
     "name": "stdout",
     "output_type": "stream",
     "text": [
      "Epoch [1/20], Loss: 0.6424, Validation Acc: 66.45%\n"
     ]
    },
    {
     "name": "stderr",
     "output_type": "stream",
     "text": [
      "\u001b[32m[I 2023-05-03 08:45:33,656]\u001b[0m Trial 14 pruned. \u001b[0m\n"
     ]
    },
    {
     "name": "stdout",
     "output_type": "stream",
     "text": [
      "Epoch [1/20], Loss: 0.6673, Validation Acc: 59.02%\n"
     ]
    },
    {
     "name": "stderr",
     "output_type": "stream",
     "text": [
      "\u001b[32m[I 2023-05-03 08:45:55,375]\u001b[0m Trial 15 pruned. \u001b[0m\n"
     ]
    },
    {
     "name": "stdout",
     "output_type": "stream",
     "text": [
      "Epoch [1/20], Loss: 0.6544, Validation Acc: 64.87%\n",
      "Epoch [1/20], Loss: 0.6090, Validation Acc: 67.05%\n",
      "Epoch [2/20], Loss: 0.5781, Validation Acc: 66.80%\n",
      "Epoch [3/20], Loss: 0.5859, Validation Acc: 66.42%\n",
      "Epoch [4/20], Loss: 0.6795, Validation Acc: 66.80%\n",
      "Epoch [5/20], Loss: 0.6312, Validation Acc: 66.62%\n",
      "Epoch [6/20], Loss: 0.5947, Validation Acc: 66.65%\n",
      "Epoch [7/20], Loss: 0.6310, Validation Acc: 66.87%\n",
      "Epoch [8/20], Loss: 0.5615, Validation Acc: 66.96%\n",
      "Epoch [9/20], Loss: 0.6122, Validation Acc: 67.08%\n",
      "Epoch [10/20], Loss: 0.5932, Validation Acc: 66.86%\n",
      "Epoch [11/20], Loss: 0.5994, Validation Acc: 66.88%\n",
      "Epoch [12/20], Loss: 0.5933, Validation Acc: 67.21%\n",
      "Epoch [13/20], Loss: 0.5588, Validation Acc: 66.96%\n",
      "Epoch [14/20], Loss: 0.7040, Validation Acc: 67.06%\n",
      "Epoch [15/20], Loss: 0.5816, Validation Acc: 67.01%\n",
      "Epoch [16/20], Loss: 0.5274, Validation Acc: 66.88%\n",
      "Epoch [17/20], Loss: 0.5945, Validation Acc: 67.14%\n",
      "Epoch [18/20], Loss: 0.5991, Validation Acc: 66.86%\n",
      "Epoch [19/20], Loss: 0.6906, Validation Acc: 66.92%\n"
     ]
    },
    {
     "name": "stderr",
     "output_type": "stream",
     "text": [
      "\u001b[32m[I 2023-05-03 08:49:29,541]\u001b[0m Trial 16 finished with value: 66.83304217619165 and parameters: {'hidden_size': 198, 'num_layers': 2, 'learning_rate': 0.000126144382239493}. Best is trial 16 with value: 66.83304217619165.\u001b[0m\n"
     ]
    },
    {
     "name": "stdout",
     "output_type": "stream",
     "text": [
      "Epoch [20/20], Loss: 0.6560, Validation Acc: 66.83%\n",
      "Epoch [1/20], Loss: 0.6682, Validation Acc: 66.75%\n",
      "Epoch [2/20], Loss: 0.6334, Validation Acc: 67.18%\n",
      "Epoch [3/20], Loss: 0.6849, Validation Acc: 66.52%\n",
      "Epoch [4/20], Loss: 0.6229, Validation Acc: 66.21%\n",
      "Epoch [5/20], Loss: 0.5903, Validation Acc: 66.55%\n",
      "Epoch [6/20], Loss: 0.6537, Validation Acc: 66.42%\n",
      "Epoch [7/20], Loss: 0.6031, Validation Acc: 66.98%\n",
      "Epoch [8/20], Loss: 0.6893, Validation Acc: 66.41%\n",
      "Epoch [9/20], Loss: 0.6137, Validation Acc: 66.22%\n",
      "Epoch [10/20], Loss: 0.6366, Validation Acc: 66.21%\n",
      "Epoch [11/20], Loss: 0.5895, Validation Acc: 66.42%\n",
      "Epoch [12/20], Loss: 0.5684, Validation Acc: 65.71%\n",
      "Epoch [13/20], Loss: 0.5646, Validation Acc: 65.51%\n",
      "Epoch [14/20], Loss: 0.5935, Validation Acc: 65.50%\n",
      "Epoch [15/20], Loss: 0.6607, Validation Acc: 65.78%\n",
      "Epoch [16/20], Loss: 0.5058, Validation Acc: 65.66%\n",
      "Epoch [17/20], Loss: 0.6061, Validation Acc: 64.50%\n",
      "Epoch [18/20], Loss: 0.5861, Validation Acc: 64.89%\n",
      "Epoch [19/20], Loss: 0.5619, Validation Acc: 65.26%\n"
     ]
    },
    {
     "name": "stderr",
     "output_type": "stream",
     "text": [
      "\u001b[32m[I 2023-05-03 08:51:22,754]\u001b[0m Trial 17 finished with value: 64.74918891939106 and parameters: {'hidden_size': 72, 'num_layers': 2, 'learning_rate': 0.0021550416032437734}. Best is trial 16 with value: 66.83304217619165.\u001b[0m\n"
     ]
    },
    {
     "name": "stdout",
     "output_type": "stream",
     "text": [
      "Epoch [20/20], Loss: 0.5438, Validation Acc: 64.75%\n",
      "Epoch [1/20], Loss: 0.6126, Validation Acc: 66.98%\n",
      "Epoch [2/20], Loss: 0.6506, Validation Acc: 67.05%\n",
      "Epoch [3/20], Loss: 0.6229, Validation Acc: 67.10%\n",
      "Epoch [4/20], Loss: 0.6088, Validation Acc: 66.72%\n",
      "Epoch [5/20], Loss: 0.6232, Validation Acc: 66.66%\n",
      "Epoch [6/20], Loss: 0.5569, Validation Acc: 66.78%\n",
      "Epoch [7/20], Loss: 0.6378, Validation Acc: 67.03%\n",
      "Epoch [8/20], Loss: 0.6114, Validation Acc: 66.81%\n",
      "Epoch [9/20], Loss: 0.6391, Validation Acc: 66.48%\n",
      "Epoch [10/20], Loss: 0.6648, Validation Acc: 66.96%\n",
      "Epoch [11/20], Loss: 0.6334, Validation Acc: 67.16%\n",
      "Epoch [12/20], Loss: 0.6424, Validation Acc: 66.51%\n",
      "Epoch [13/20], Loss: 0.6535, Validation Acc: 66.92%\n",
      "Epoch [14/20], Loss: 0.6119, Validation Acc: 66.90%\n",
      "Epoch [15/20], Loss: 0.6225, Validation Acc: 66.62%\n",
      "Epoch [16/20], Loss: 0.6510, Validation Acc: 66.56%\n",
      "Epoch [17/20], Loss: 0.6231, Validation Acc: 67.00%\n",
      "Epoch [18/20], Loss: 0.7016, Validation Acc: 66.76%\n",
      "Epoch [19/20], Loss: 0.5770, Validation Acc: 66.65%\n"
     ]
    },
    {
     "name": "stderr",
     "output_type": "stream",
     "text": [
      "\u001b[32m[I 2023-05-03 08:54:04,163]\u001b[0m Trial 18 finished with value: 66.79560768654854 and parameters: {'hidden_size': 177, 'num_layers': 2, 'learning_rate': 0.00016420690032471882}. Best is trial 16 with value: 66.83304217619165.\u001b[0m\n"
     ]
    },
    {
     "name": "stdout",
     "output_type": "stream",
     "text": [
      "Epoch [20/20], Loss: 0.6796, Validation Acc: 66.80%\n"
     ]
    },
    {
     "name": "stderr",
     "output_type": "stream",
     "text": [
      "\u001b[32m[I 2023-05-03 08:54:12,104]\u001b[0m Trial 19 pruned. \u001b[0m\n"
     ]
    },
    {
     "name": "stdout",
     "output_type": "stream",
     "text": [
      "Epoch [1/20], Loss: 0.6068, Validation Acc: 66.06%\n"
     ]
    },
    {
     "name": "stderr",
     "output_type": "stream",
     "text": [
      "\u001b[32m[I 2023-05-03 08:54:16,685]\u001b[0m Trial 20 pruned. \u001b[0m\n"
     ]
    },
    {
     "name": "stdout",
     "output_type": "stream",
     "text": [
      "Epoch [1/20], Loss: 0.6222, Validation Acc: 66.21%\n"
     ]
    },
    {
     "name": "stderr",
     "output_type": "stream",
     "text": [
      "\u001b[32m[I 2023-05-03 08:54:31,274]\u001b[0m Trial 21 pruned. \u001b[0m\n"
     ]
    },
    {
     "name": "stdout",
     "output_type": "stream",
     "text": [
      "Epoch [1/20], Loss: 0.6408, Validation Acc: 66.67%\n"
     ]
    },
    {
     "name": "stderr",
     "output_type": "stream",
     "text": [
      "\u001b[32m[I 2023-05-03 08:54:51,558]\u001b[0m Trial 22 pruned. \u001b[0m\n"
     ]
    },
    {
     "name": "stdout",
     "output_type": "stream",
     "text": [
      "Epoch [1/20], Loss: 0.6948, Validation Acc: 66.72%\n"
     ]
    },
    {
     "name": "stderr",
     "output_type": "stream",
     "text": [
      "\u001b[32m[I 2023-05-03 08:54:58,683]\u001b[0m Trial 23 pruned. \u001b[0m\n"
     ]
    },
    {
     "name": "stdout",
     "output_type": "stream",
     "text": [
      "Epoch [1/20], Loss: 0.6428, Validation Acc: 66.50%\n"
     ]
    },
    {
     "name": "stderr",
     "output_type": "stream",
     "text": [
      "\u001b[32m[I 2023-05-03 08:55:07,340]\u001b[0m Trial 24 pruned. \u001b[0m\n"
     ]
    },
    {
     "name": "stdout",
     "output_type": "stream",
     "text": [
      "Epoch [1/20], Loss: 0.6774, Validation Acc: 66.35%\n"
     ]
    },
    {
     "name": "stderr",
     "output_type": "stream",
     "text": [
      "\u001b[32m[I 2023-05-03 08:55:21,251]\u001b[0m Trial 25 pruned. \u001b[0m\n"
     ]
    },
    {
     "name": "stdout",
     "output_type": "stream",
     "text": [
      "Epoch [1/20], Loss: 0.5755, Validation Acc: 66.33%\n"
     ]
    },
    {
     "name": "stderr",
     "output_type": "stream",
     "text": [
      "\u001b[32m[I 2023-05-03 08:55:37,259]\u001b[0m Trial 26 pruned. \u001b[0m\n"
     ]
    },
    {
     "name": "stdout",
     "output_type": "stream",
     "text": [
      "Epoch [1/20], Loss: 0.6227, Validation Acc: 66.25%\n"
     ]
    },
    {
     "name": "stderr",
     "output_type": "stream",
     "text": [
      "\u001b[32m[I 2023-05-03 08:55:40,735]\u001b[0m Trial 27 pruned. \u001b[0m\n"
     ]
    },
    {
     "name": "stdout",
     "output_type": "stream",
     "text": [
      "Epoch [1/20], Loss: 0.6288, Validation Acc: 66.68%\n",
      "Epoch [1/20], Loss: 0.6268, Validation Acc: 67.12%\n",
      "Epoch [2/20], Loss: 0.5729, Validation Acc: 67.16%\n",
      "Epoch [3/20], Loss: 0.5964, Validation Acc: 66.46%\n",
      "Epoch [4/20], Loss: 0.6585, Validation Acc: 66.88%\n",
      "Epoch [5/20], Loss: 0.5811, Validation Acc: 66.58%\n",
      "Epoch [6/20], Loss: 0.5116, Validation Acc: 66.92%\n",
      "Epoch [7/20], Loss: 0.6125, Validation Acc: 66.81%\n",
      "Epoch [8/20], Loss: 0.5693, Validation Acc: 66.58%\n",
      "Epoch [9/20], Loss: 0.5783, Validation Acc: 66.35%\n",
      "Epoch [10/20], Loss: 0.5849, Validation Acc: 66.47%\n",
      "Epoch [11/20], Loss: 0.6126, Validation Acc: 66.28%\n",
      "Epoch [12/20], Loss: 0.5744, Validation Acc: 66.40%\n",
      "Epoch [13/20], Loss: 0.5863, Validation Acc: 66.20%\n",
      "Epoch [14/20], Loss: 0.5602, Validation Acc: 66.48%\n",
      "Epoch [15/20], Loss: 0.5548, Validation Acc: 66.41%\n",
      "Epoch [16/20], Loss: 0.5489, Validation Acc: 66.41%\n",
      "Epoch [17/20], Loss: 0.5684, Validation Acc: 65.73%\n",
      "Epoch [18/20], Loss: 0.6009, Validation Acc: 65.22%\n",
      "Epoch [19/20], Loss: 0.5338, Validation Acc: 65.70%\n"
     ]
    },
    {
     "name": "stderr",
     "output_type": "stream",
     "text": [
      "\u001b[32m[I 2023-05-03 08:56:32,788]\u001b[0m Trial 28 finished with value: 66.2715248315448 and parameters: {'hidden_size': 20, 'num_layers': 2, 'learning_rate': 0.002369674858814059}. Best is trial 16 with value: 66.83304217619165.\u001b[0m\n"
     ]
    },
    {
     "name": "stdout",
     "output_type": "stream",
     "text": [
      "Epoch [20/20], Loss: 0.6116, Validation Acc: 66.27%\n",
      "Epoch [1/20], Loss: 0.5278, Validation Acc: 67.06%\n",
      "Epoch [2/20], Loss: 0.6607, Validation Acc: 66.77%\n",
      "Epoch [3/20], Loss: 0.6934, Validation Acc: 66.38%\n",
      "Epoch [4/20], Loss: 0.6070, Validation Acc: 65.91%\n",
      "Epoch [5/20], Loss: 0.5529, Validation Acc: 66.68%\n",
      "Epoch [6/20], Loss: 0.6373, Validation Acc: 67.14%\n",
      "Epoch [7/20], Loss: 0.5617, Validation Acc: 67.03%\n",
      "Epoch [8/20], Loss: 0.6421, Validation Acc: 66.42%\n",
      "Epoch [9/20], Loss: 0.5950, Validation Acc: 66.23%\n",
      "Epoch [10/20], Loss: 0.6247, Validation Acc: 65.93%\n",
      "Epoch [11/20], Loss: 0.5880, Validation Acc: 65.81%\n",
      "Epoch [12/20], Loss: 0.6143, Validation Acc: 66.03%\n",
      "Epoch [13/20], Loss: 0.6104, Validation Acc: 66.57%\n",
      "Epoch [14/20], Loss: 0.5838, Validation Acc: 65.02%\n",
      "Epoch [15/20], Loss: 0.6499, Validation Acc: 66.53%\n",
      "Epoch [16/20], Loss: 0.6373, Validation Acc: 66.52%\n",
      "Epoch [17/20], Loss: 0.6074, Validation Acc: 64.06%\n",
      "Epoch [18/20], Loss: 0.5028, Validation Acc: 66.07%\n",
      "Epoch [19/20], Loss: 0.6362, Validation Acc: 65.92%\n"
     ]
    },
    {
     "name": "stderr",
     "output_type": "stream",
     "text": [
      "\u001b[32m[I 2023-05-03 09:05:05,830]\u001b[0m Trial 29 finished with value: 65.94709258797104 and parameters: {'hidden_size': 324, 'num_layers': 3, 'learning_rate': 0.0009037270625772738}. Best is trial 16 with value: 66.83304217619165.\u001b[0m\n"
     ]
    },
    {
     "name": "stdout",
     "output_type": "stream",
     "text": [
      "Epoch [20/20], Loss: 0.5811, Validation Acc: 65.95%\n",
      "Epoch [1/20], Loss: 0.5597, Validation Acc: 67.08%\n",
      "Epoch [2/20], Loss: 0.5816, Validation Acc: 66.98%\n",
      "Epoch [3/20], Loss: 0.5389, Validation Acc: 66.82%\n",
      "Epoch [4/20], Loss: 0.6383, Validation Acc: 66.45%\n",
      "Epoch [5/20], Loss: 0.7742, Validation Acc: 66.52%\n",
      "Epoch [6/20], Loss: 0.5753, Validation Acc: 66.85%\n",
      "Epoch [7/20], Loss: 0.5765, Validation Acc: 66.20%\n",
      "Epoch [8/20], Loss: 0.6544, Validation Acc: 66.45%\n",
      "Epoch [9/20], Loss: 0.6140, Validation Acc: 66.92%\n",
      "Epoch [10/20], Loss: 0.5654, Validation Acc: 66.55%\n",
      "Epoch [11/20], Loss: 0.5581, Validation Acc: 66.10%\n",
      "Epoch [12/20], Loss: 0.5262, Validation Acc: 66.65%\n",
      "Epoch [13/20], Loss: 0.5627, Validation Acc: 66.11%\n",
      "Epoch [14/20], Loss: 0.6458, Validation Acc: 65.81%\n",
      "Epoch [15/20], Loss: 0.5958, Validation Acc: 66.33%\n",
      "Epoch [16/20], Loss: 0.5604, Validation Acc: 66.37%\n",
      "Epoch [17/20], Loss: 0.5264, Validation Acc: 65.37%\n",
      "Epoch [18/20], Loss: 0.5232, Validation Acc: 65.88%\n",
      "Epoch [19/20], Loss: 0.5599, Validation Acc: 64.95%\n"
     ]
    },
    {
     "name": "stderr",
     "output_type": "stream",
     "text": [
      "\u001b[32m[I 2023-05-03 09:08:20,631]\u001b[0m Trial 30 finished with value: 65.16096830546545 and parameters: {'hidden_size': 159, 'num_layers': 2, 'learning_rate': 0.0014243716937714364}. Best is trial 16 with value: 66.83304217619165.\u001b[0m\n"
     ]
    },
    {
     "name": "stdout",
     "output_type": "stream",
     "text": [
      "Epoch [20/20], Loss: 0.5390, Validation Acc: 65.16%\n"
     ]
    },
    {
     "name": "stderr",
     "output_type": "stream",
     "text": [
      "\u001b[32m[I 2023-05-03 09:08:43,445]\u001b[0m Trial 31 pruned. \u001b[0m\n"
     ]
    },
    {
     "name": "stdout",
     "output_type": "stream",
     "text": [
      "Epoch [1/20], Loss: 0.6695, Validation Acc: 66.67%\n",
      "Epoch [1/20], Loss: 0.6669, Validation Acc: 66.90%\n",
      "Epoch [2/20], Loss: 0.6366, Validation Acc: 66.06%\n",
      "Epoch [3/20], Loss: 0.6649, Validation Acc: 66.11%\n",
      "Epoch [4/20], Loss: 0.6412, Validation Acc: 66.32%\n",
      "Epoch [5/20], Loss: 0.6404, Validation Acc: 66.36%\n",
      "Epoch [6/20], Loss: 0.5590, Validation Acc: 66.32%\n",
      "Epoch [7/20], Loss: 0.5427, Validation Acc: 66.78%\n",
      "Epoch [8/20], Loss: 0.6314, Validation Acc: 65.88%\n",
      "Epoch [9/20], Loss: 0.6243, Validation Acc: 66.62%\n",
      "Epoch [10/20], Loss: 0.6981, Validation Acc: 66.28%\n",
      "Epoch [11/20], Loss: 0.6442, Validation Acc: 66.02%\n",
      "Epoch [12/20], Loss: 0.5581, Validation Acc: 64.94%\n",
      "Epoch [13/20], Loss: 0.6382, Validation Acc: 66.35%\n",
      "Epoch [14/20], Loss: 0.6244, Validation Acc: 66.32%\n",
      "Epoch [15/20], Loss: 0.6648, Validation Acc: 65.96%\n",
      "Epoch [16/20], Loss: 0.5689, Validation Acc: 66.62%\n",
      "Epoch [17/20], Loss: 0.6607, Validation Acc: 66.21%\n",
      "Epoch [18/20], Loss: 0.6864, Validation Acc: 65.70%\n",
      "Epoch [19/20], Loss: 0.4583, Validation Acc: 65.87%\n"
     ]
    },
    {
     "name": "stderr",
     "output_type": "stream",
     "text": [
      "\u001b[32m[I 2023-05-03 09:17:00,786]\u001b[0m Trial 32 finished with value: 65.51035687546793 and parameters: {'hidden_size': 245, 'num_layers': 3, 'learning_rate': 0.0016186453905723363}. Best is trial 16 with value: 66.83304217619165.\u001b[0m\n"
     ]
    },
    {
     "name": "stdout",
     "output_type": "stream",
     "text": [
      "Epoch [20/20], Loss: 0.6129, Validation Acc: 65.51%\n"
     ]
    },
    {
     "name": "stderr",
     "output_type": "stream",
     "text": [
      "\u001b[32m[I 2023-05-03 09:17:29,910]\u001b[0m Trial 33 pruned. \u001b[0m\n"
     ]
    },
    {
     "name": "stdout",
     "output_type": "stream",
     "text": [
      "Epoch [1/20], Loss: 0.6355, Validation Acc: 65.86%\n"
     ]
    },
    {
     "name": "stderr",
     "output_type": "stream",
     "text": [
      "\u001b[32m[I 2023-05-03 09:17:47,682]\u001b[0m Trial 34 pruned. \u001b[0m\n"
     ]
    },
    {
     "name": "stdout",
     "output_type": "stream",
     "text": [
      "Epoch [1/20], Loss: 0.7082, Validation Acc: 66.51%\n"
     ]
    },
    {
     "name": "stderr",
     "output_type": "stream",
     "text": [
      "\u001b[32m[I 2023-05-03 09:18:18,171]\u001b[0m Trial 35 pruned. \u001b[0m\n"
     ]
    },
    {
     "name": "stdout",
     "output_type": "stream",
     "text": [
      "Epoch [1/20], Loss: 0.6796, Validation Acc: 61.13%\n",
      "Epoch [1/20], Loss: 0.5159, Validation Acc: 67.18%\n",
      "Epoch [2/20], Loss: 0.6971, Validation Acc: 67.17%\n",
      "Epoch [3/20], Loss: 0.5820, Validation Acc: 66.81%\n",
      "Epoch [4/20], Loss: 0.5605, Validation Acc: 66.48%\n",
      "Epoch [5/20], Loss: 0.6991, Validation Acc: 66.91%\n",
      "Epoch [6/20], Loss: 0.6296, Validation Acc: 67.11%\n",
      "Epoch [7/20], Loss: 0.6747, Validation Acc: 66.91%\n",
      "Epoch [8/20], Loss: 0.6047, Validation Acc: 66.81%\n",
      "Epoch [9/20], Loss: 0.6436, Validation Acc: 66.75%\n",
      "Epoch [10/20], Loss: 0.6149, Validation Acc: 66.66%\n",
      "Epoch [11/20], Loss: 0.5516, Validation Acc: 66.77%\n",
      "Epoch [12/20], Loss: 0.5419, Validation Acc: 67.08%\n",
      "Epoch [13/20], Loss: 0.5519, Validation Acc: 66.57%\n",
      "Epoch [14/20], Loss: 0.6653, Validation Acc: 67.06%\n",
      "Epoch [15/20], Loss: 0.5066, Validation Acc: 66.56%\n",
      "Epoch [16/20], Loss: 0.5882, Validation Acc: 66.70%\n",
      "Epoch [17/20], Loss: 0.6275, Validation Acc: 66.80%\n",
      "Epoch [18/20], Loss: 0.5495, Validation Acc: 66.75%\n",
      "Epoch [19/20], Loss: 0.5996, Validation Acc: 67.06%\n"
     ]
    },
    {
     "name": "stderr",
     "output_type": "stream",
     "text": [
      "\u001b[32m[I 2023-05-03 09:20:03,471]\u001b[0m Trial 36 finished with value: 66.57100074868978 and parameters: {'hidden_size': 121, 'num_layers': 1, 'learning_rate': 0.0005712187405346698}. Best is trial 16 with value: 66.83304217619165.\u001b[0m\n"
     ]
    },
    {
     "name": "stdout",
     "output_type": "stream",
     "text": [
      "Epoch [20/20], Loss: 0.6188, Validation Acc: 66.57%\n",
      "Epoch [1/20], Loss: 0.6781, Validation Acc: 67.05%\n",
      "Epoch [2/20], Loss: 0.6369, Validation Acc: 66.68%\n",
      "Epoch [3/20], Loss: 0.5581, Validation Acc: 66.82%\n",
      "Epoch [4/20], Loss: 0.6514, Validation Acc: 66.77%\n",
      "Epoch [5/20], Loss: 0.6010, Validation Acc: 66.98%\n",
      "Epoch [6/20], Loss: 0.5937, Validation Acc: 66.61%\n",
      "Epoch [7/20], Loss: 0.5857, Validation Acc: 66.88%\n",
      "Epoch [8/20], Loss: 0.5807, Validation Acc: 66.95%\n",
      "Epoch [9/20], Loss: 0.5552, Validation Acc: 66.73%\n",
      "Epoch [10/20], Loss: 0.5705, Validation Acc: 66.75%\n",
      "Epoch [11/20], Loss: 0.6883, Validation Acc: 67.11%\n",
      "Epoch [12/20], Loss: 0.5421, Validation Acc: 66.86%\n",
      "Epoch [13/20], Loss: 0.5800, Validation Acc: 66.73%\n",
      "Epoch [14/20], Loss: 0.6503, Validation Acc: 66.87%\n",
      "Epoch [15/20], Loss: 0.5343, Validation Acc: 66.70%\n",
      "Epoch [16/20], Loss: 0.6492, Validation Acc: 67.02%\n",
      "Epoch [17/20], Loss: 0.6861, Validation Acc: 66.71%\n",
      "Epoch [18/20], Loss: 0.5787, Validation Acc: 67.10%\n",
      "Epoch [19/20], Loss: 0.6014, Validation Acc: 66.96%\n"
     ]
    },
    {
     "name": "stderr",
     "output_type": "stream",
     "text": [
      "\u001b[32m[I 2023-05-03 09:21:44,586]\u001b[0m Trial 37 finished with value: 66.85799850262042 and parameters: {'hidden_size': 125, 'num_layers': 1, 'learning_rate': 0.0006491261876461692}. Best is trial 37 with value: 66.85799850262042.\u001b[0m\n"
     ]
    },
    {
     "name": "stdout",
     "output_type": "stream",
     "text": [
      "Epoch [20/20], Loss: 0.5883, Validation Acc: 66.86%\n",
      "Epoch [1/20], Loss: 0.6517, Validation Acc: 67.06%\n",
      "Epoch [2/20], Loss: 0.5534, Validation Acc: 66.80%\n",
      "Epoch [3/20], Loss: 0.6278, Validation Acc: 66.58%\n",
      "Epoch [4/20], Loss: 0.6036, Validation Acc: 66.98%\n",
      "Epoch [5/20], Loss: 0.6286, Validation Acc: 66.62%\n",
      "Epoch [6/20], Loss: 0.5764, Validation Acc: 67.16%\n",
      "Epoch [7/20], Loss: 0.5876, Validation Acc: 66.66%\n",
      "Epoch [8/20], Loss: 0.6972, Validation Acc: 66.80%\n",
      "Epoch [9/20], Loss: 0.5880, Validation Acc: 66.71%\n",
      "Epoch [10/20], Loss: 0.5832, Validation Acc: 66.76%\n",
      "Epoch [11/20], Loss: 0.6025, Validation Acc: 67.01%\n",
      "Epoch [12/20], Loss: 0.5514, Validation Acc: 67.02%\n",
      "Epoch [13/20], Loss: 0.6013, Validation Acc: 67.12%\n",
      "Epoch [14/20], Loss: 0.6514, Validation Acc: 66.95%\n",
      "Epoch [15/20], Loss: 0.5754, Validation Acc: 66.81%\n",
      "Epoch [16/20], Loss: 0.6379, Validation Acc: 66.75%\n",
      "Epoch [17/20], Loss: 0.6526, Validation Acc: 66.62%\n",
      "Epoch [18/20], Loss: 0.5427, Validation Acc: 66.98%\n",
      "Epoch [19/20], Loss: 0.5868, Validation Acc: 66.65%\n"
     ]
    },
    {
     "name": "stderr",
     "output_type": "stream",
     "text": [
      "\u001b[32m[I 2023-05-03 09:23:25,771]\u001b[0m Trial 38 finished with value: 66.30895932118793 and parameters: {'hidden_size': 98, 'num_layers': 1, 'learning_rate': 0.0013578952101288826}. Best is trial 37 with value: 66.85799850262042.\u001b[0m\n"
     ]
    },
    {
     "name": "stdout",
     "output_type": "stream",
     "text": [
      "Epoch [20/20], Loss: 0.5784, Validation Acc: 66.31%\n"
     ]
    },
    {
     "name": "stderr",
     "output_type": "stream",
     "text": [
      "\u001b[32m[I 2023-05-03 09:23:30,004]\u001b[0m Trial 39 pruned. \u001b[0m\n"
     ]
    },
    {
     "name": "stdout",
     "output_type": "stream",
     "text": [
      "Epoch [1/20], Loss: 0.6191, Validation Acc: 66.71%\n"
     ]
    },
    {
     "name": "stderr",
     "output_type": "stream",
     "text": [
      "\u001b[32m[I 2023-05-03 09:23:34,800]\u001b[0m Trial 40 pruned. \u001b[0m\n"
     ]
    },
    {
     "name": "stdout",
     "output_type": "stream",
     "text": [
      "Epoch [1/20], Loss: 0.6014, Validation Acc: 66.77%\n",
      "Epoch [1/20], Loss: 0.6147, Validation Acc: 67.08%\n",
      "Epoch [2/20], Loss: 0.6082, Validation Acc: 66.62%\n",
      "Epoch [3/20], Loss: 0.5509, Validation Acc: 66.56%\n",
      "Epoch [4/20], Loss: 0.6005, Validation Acc: 66.78%\n",
      "Epoch [5/20], Loss: 0.6553, Validation Acc: 67.11%\n",
      "Epoch [6/20], Loss: 0.6013, Validation Acc: 66.73%\n",
      "Epoch [7/20], Loss: 0.6588, Validation Acc: 66.67%\n",
      "Epoch [8/20], Loss: 0.5702, Validation Acc: 66.77%\n",
      "Epoch [9/20], Loss: 0.6468, Validation Acc: 66.98%\n",
      "Epoch [10/20], Loss: 0.5774, Validation Acc: 66.92%\n",
      "Epoch [11/20], Loss: 0.6211, Validation Acc: 66.88%\n",
      "Epoch [12/20], Loss: 0.6494, Validation Acc: 67.10%\n",
      "Epoch [13/20], Loss: 0.5372, Validation Acc: 66.48%\n",
      "Epoch [14/20], Loss: 0.6197, Validation Acc: 66.73%\n",
      "Epoch [15/20], Loss: 0.6012, Validation Acc: 66.80%\n",
      "Epoch [16/20], Loss: 0.5672, Validation Acc: 67.03%\n",
      "Epoch [17/20], Loss: 0.6182, Validation Acc: 67.10%\n",
      "Epoch [18/20], Loss: 0.7136, Validation Acc: 67.08%\n",
      "Epoch [19/20], Loss: 0.5599, Validation Acc: 66.86%\n"
     ]
    },
    {
     "name": "stderr",
     "output_type": "stream",
     "text": [
      "\u001b[32m[I 2023-05-03 09:25:05,592]\u001b[0m Trial 41 finished with value: 66.77065136011979 and parameters: {'hidden_size': 137, 'num_layers': 1, 'learning_rate': 0.0004622803485444708}. Best is trial 37 with value: 66.85799850262042.\u001b[0m\n"
     ]
    },
    {
     "name": "stdout",
     "output_type": "stream",
     "text": [
      "Epoch [20/20], Loss: 0.6280, Validation Acc: 66.77%\n"
     ]
    },
    {
     "name": "stderr",
     "output_type": "stream",
     "text": [
      "\u001b[32m[I 2023-05-03 09:25:12,330]\u001b[0m Trial 42 pruned. \u001b[0m\n"
     ]
    },
    {
     "name": "stdout",
     "output_type": "stream",
     "text": [
      "Epoch [1/20], Loss: 0.5661, Validation Acc: 66.75%\n"
     ]
    },
    {
     "name": "stderr",
     "output_type": "stream",
     "text": [
      "\u001b[32m[I 2023-05-03 09:25:17,130]\u001b[0m Trial 43 pruned. \u001b[0m\n"
     ]
    },
    {
     "name": "stdout",
     "output_type": "stream",
     "text": [
      "Epoch [1/20], Loss: 0.5999, Validation Acc: 66.85%\n"
     ]
    },
    {
     "name": "stderr",
     "output_type": "stream",
     "text": [
      "\u001b[32m[I 2023-05-03 09:25:26,528]\u001b[0m Trial 44 pruned. \u001b[0m\n"
     ]
    },
    {
     "name": "stdout",
     "output_type": "stream",
     "text": [
      "Epoch [1/20], Loss: 0.6333, Validation Acc: 66.68%\n",
      "Epoch [1/20], Loss: 0.6716, Validation Acc: 67.13%\n",
      "Epoch [2/20], Loss: 0.5769, Validation Acc: 66.98%\n",
      "Epoch [3/20], Loss: 0.6684, Validation Acc: 66.82%\n",
      "Epoch [4/20], Loss: 0.6308, Validation Acc: 66.71%\n",
      "Epoch [5/20], Loss: 0.5815, Validation Acc: 66.97%\n",
      "Epoch [6/20], Loss: 0.6038, Validation Acc: 66.73%\n",
      "Epoch [7/20], Loss: 0.5966, Validation Acc: 66.93%\n",
      "Epoch [8/20], Loss: 0.6862, Validation Acc: 67.10%\n",
      "Epoch [9/20], Loss: 0.6184, Validation Acc: 66.87%\n",
      "Epoch [10/20], Loss: 0.6397, Validation Acc: 66.81%\n",
      "Epoch [11/20], Loss: 0.5834, Validation Acc: 66.68%\n",
      "Epoch [12/20], Loss: 0.6559, Validation Acc: 66.88%\n",
      "Epoch [13/20], Loss: 0.6556, Validation Acc: 66.81%\n",
      "Epoch [14/20], Loss: 0.5749, Validation Acc: 66.78%\n",
      "Epoch [15/20], Loss: 0.6542, Validation Acc: 67.08%\n",
      "Epoch [16/20], Loss: 0.5943, Validation Acc: 66.66%\n",
      "Epoch [17/20], Loss: 0.5616, Validation Acc: 66.60%\n",
      "Epoch [18/20], Loss: 0.6291, Validation Acc: 66.92%\n",
      "Epoch [19/20], Loss: 0.5958, Validation Acc: 66.70%\n"
     ]
    },
    {
     "name": "stderr",
     "output_type": "stream",
     "text": [
      "\u001b[32m[I 2023-05-03 09:26:51,806]\u001b[0m Trial 45 finished with value: 66.94534564512104 and parameters: {'hidden_size': 102, 'num_layers': 1, 'learning_rate': 0.000326117483010123}. Best is trial 45 with value: 66.94534564512104.\u001b[0m\n"
     ]
    },
    {
     "name": "stdout",
     "output_type": "stream",
     "text": [
      "Epoch [20/20], Loss: 0.6299, Validation Acc: 66.95%\n"
     ]
    },
    {
     "name": "stderr",
     "output_type": "stream",
     "text": [
      "\u001b[32m[I 2023-05-03 09:26:59,264]\u001b[0m Trial 46 pruned. \u001b[0m\n"
     ]
    },
    {
     "name": "stdout",
     "output_type": "stream",
     "text": [
      "Epoch [1/20], Loss: 0.5289, Validation Acc: 66.82%\n"
     ]
    },
    {
     "name": "stderr",
     "output_type": "stream",
     "text": [
      "\u001b[32m[I 2023-05-03 09:27:02,598]\u001b[0m Trial 47 pruned. \u001b[0m\n"
     ]
    },
    {
     "name": "stdout",
     "output_type": "stream",
     "text": [
      "Epoch [1/20], Loss: 0.6561, Validation Acc: 66.75%\n"
     ]
    },
    {
     "name": "stderr",
     "output_type": "stream",
     "text": [
      "\u001b[32m[I 2023-05-03 09:27:09,902]\u001b[0m Trial 48 pruned. \u001b[0m\n"
     ]
    },
    {
     "name": "stdout",
     "output_type": "stream",
     "text": [
      "Epoch [1/20], Loss: 0.5590, Validation Acc: 66.91%\n",
      "Epoch [1/20], Loss: 0.6747, Validation Acc: 67.18%\n",
      "Epoch [2/20], Loss: 0.6701, Validation Acc: 66.75%\n",
      "Epoch [3/20], Loss: 0.6023, Validation Acc: 66.95%\n",
      "Epoch [4/20], Loss: 0.6048, Validation Acc: 66.67%\n",
      "Epoch [5/20], Loss: 0.5864, Validation Acc: 66.28%\n",
      "Epoch [6/20], Loss: 0.7135, Validation Acc: 66.81%\n",
      "Epoch [7/20], Loss: 0.5498, Validation Acc: 66.97%\n",
      "Epoch [8/20], Loss: 0.6523, Validation Acc: 66.57%\n",
      "Epoch [9/20], Loss: 0.5995, Validation Acc: 66.92%\n",
      "Epoch [10/20], Loss: 0.6260, Validation Acc: 66.71%\n",
      "Epoch [11/20], Loss: 0.6218, Validation Acc: 66.91%\n",
      "Epoch [12/20], Loss: 0.5628, Validation Acc: 67.16%\n",
      "Epoch [13/20], Loss: 0.6679, Validation Acc: 66.88%\n",
      "Epoch [14/20], Loss: 0.5881, Validation Acc: 66.75%\n",
      "Epoch [15/20], Loss: 0.5901, Validation Acc: 67.00%\n",
      "Epoch [16/20], Loss: 0.6066, Validation Acc: 67.29%\n",
      "Epoch [17/20], Loss: 0.6272, Validation Acc: 67.18%\n",
      "Epoch [18/20], Loss: 0.6239, Validation Acc: 67.03%\n",
      "Epoch [19/20], Loss: 0.6233, Validation Acc: 66.92%\n"
     ]
    },
    {
     "name": "stderr",
     "output_type": "stream",
     "text": [
      "\u001b[32m[I 2023-05-03 09:28:35,373]\u001b[0m Trial 49 finished with value: 67.28225605190916 and parameters: {'hidden_size': 72, 'num_layers': 1, 'learning_rate': 0.0006180540563092695}. Best is trial 49 with value: 67.28225605190916.\u001b[0m\n"
     ]
    },
    {
     "name": "stdout",
     "output_type": "stream",
     "text": [
      "Epoch [20/20], Loss: 0.5418, Validation Acc: 67.28%\n"
     ]
    },
    {
     "name": "stderr",
     "output_type": "stream",
     "text": [
      "\u001b[32m[I 2023-05-03 09:28:39,126]\u001b[0m Trial 50 pruned. \u001b[0m\n"
     ]
    },
    {
     "name": "stdout",
     "output_type": "stream",
     "text": [
      "Epoch [1/20], Loss: 0.5184, Validation Acc: 66.46%\n"
     ]
    },
    {
     "name": "stderr",
     "output_type": "stream",
     "text": [
      "\u001b[32m[I 2023-05-03 09:28:44,020]\u001b[0m Trial 51 pruned. \u001b[0m\n"
     ]
    },
    {
     "name": "stdout",
     "output_type": "stream",
     "text": [
      "Epoch [1/20], Loss: 0.5966, Validation Acc: 66.42%\n",
      "Epoch [1/20], Loss: 0.5834, Validation Acc: 67.27%\n",
      "Epoch [2/20], Loss: 0.6546, Validation Acc: 66.82%\n",
      "Epoch [3/20], Loss: 0.7303, Validation Acc: 66.77%\n",
      "Epoch [4/20], Loss: 0.5897, Validation Acc: 66.98%\n",
      "Epoch [5/20], Loss: 0.6426, Validation Acc: 66.83%\n",
      "Epoch [6/20], Loss: 0.5692, Validation Acc: 66.82%\n",
      "Epoch [7/20], Loss: 0.6684, Validation Acc: 66.92%\n",
      "Epoch [8/20], Loss: 0.6100, Validation Acc: 66.76%\n",
      "Epoch [9/20], Loss: 0.5787, Validation Acc: 67.01%\n",
      "Epoch [10/20], Loss: 0.5729, Validation Acc: 66.77%\n",
      "Epoch [11/20], Loss: 0.5509, Validation Acc: 66.93%\n",
      "Epoch [12/20], Loss: 0.6678, Validation Acc: 66.82%\n",
      "Epoch [13/20], Loss: 0.5179, Validation Acc: 66.98%\n",
      "Epoch [14/20], Loss: 0.5638, Validation Acc: 66.92%\n",
      "Epoch [15/20], Loss: 0.6550, Validation Acc: 66.71%\n",
      "Epoch [16/20], Loss: 0.5606, Validation Acc: 66.93%\n",
      "Epoch [17/20], Loss: 0.5757, Validation Acc: 67.02%\n",
      "Epoch [18/20], Loss: 0.6543, Validation Acc: 66.82%\n",
      "Epoch [19/20], Loss: 0.6262, Validation Acc: 67.00%\n"
     ]
    },
    {
     "name": "stderr",
     "output_type": "stream",
     "text": [
      "\u001b[32m[I 2023-05-03 09:30:38,719]\u001b[0m Trial 52 finished with value: 66.93286748190667 and parameters: {'hidden_size': 170, 'num_layers': 1, 'learning_rate': 0.0002404983275708431}. Best is trial 49 with value: 67.28225605190916.\u001b[0m\n"
     ]
    },
    {
     "name": "stdout",
     "output_type": "stream",
     "text": [
      "Epoch [20/20], Loss: 0.5668, Validation Acc: 66.93%\n"
     ]
    },
    {
     "name": "stderr",
     "output_type": "stream",
     "text": [
      "\u001b[32m[I 2023-05-03 09:30:41,595]\u001b[0m Trial 53 pruned. \u001b[0m\n"
     ]
    },
    {
     "name": "stdout",
     "output_type": "stream",
     "text": [
      "Epoch [1/20], Loss: 0.5573, Validation Acc: 66.92%\n"
     ]
    },
    {
     "name": "stderr",
     "output_type": "stream",
     "text": [
      "\u001b[32m[I 2023-05-03 09:30:46,607]\u001b[0m Trial 54 pruned. \u001b[0m\n"
     ]
    },
    {
     "name": "stdout",
     "output_type": "stream",
     "text": [
      "Epoch [1/20], Loss: 0.6121, Validation Acc: 66.95%\n"
     ]
    },
    {
     "name": "stderr",
     "output_type": "stream",
     "text": [
      "\u001b[32m[I 2023-05-03 09:30:51,796]\u001b[0m Trial 55 pruned. \u001b[0m\n"
     ]
    },
    {
     "name": "stdout",
     "output_type": "stream",
     "text": [
      "Epoch [1/20], Loss: 0.6844, Validation Acc: 62.23%\n"
     ]
    },
    {
     "name": "stderr",
     "output_type": "stream",
     "text": [
      "\u001b[32m[I 2023-05-03 09:30:56,436]\u001b[0m Trial 56 pruned. \u001b[0m\n"
     ]
    },
    {
     "name": "stdout",
     "output_type": "stream",
     "text": [
      "Epoch [1/20], Loss: 0.5998, Validation Acc: 66.92%\n",
      "Epoch [1/20], Loss: 0.6287, Validation Acc: 67.24%\n",
      "Epoch [2/20], Loss: 0.5917, Validation Acc: 66.96%\n",
      "Epoch [3/20], Loss: 0.4934, Validation Acc: 66.56%\n",
      "Epoch [4/20], Loss: 0.6071, Validation Acc: 66.68%\n",
      "Epoch [5/20], Loss: 0.7279, Validation Acc: 66.35%\n",
      "Epoch [6/20], Loss: 0.6391, Validation Acc: 66.81%\n",
      "Epoch [7/20], Loss: 0.5750, Validation Acc: 66.95%\n",
      "Epoch [8/20], Loss: 0.5888, Validation Acc: 66.80%\n",
      "Epoch [9/20], Loss: 0.6307, Validation Acc: 66.80%\n",
      "Epoch [10/20], Loss: 0.5644, Validation Acc: 67.08%\n",
      "Epoch [11/20], Loss: 0.6748, Validation Acc: 67.22%\n",
      "Epoch [12/20], Loss: 0.5767, Validation Acc: 67.12%\n",
      "Epoch [13/20], Loss: 0.6145, Validation Acc: 66.81%\n",
      "Epoch [14/20], Loss: 0.5577, Validation Acc: 66.96%\n",
      "Epoch [15/20], Loss: 0.5672, Validation Acc: 67.10%\n",
      "Epoch [16/20], Loss: 0.6017, Validation Acc: 67.02%\n",
      "Epoch [17/20], Loss: 0.5505, Validation Acc: 66.91%\n",
      "Epoch [18/20], Loss: 0.5483, Validation Acc: 67.08%\n",
      "Epoch [19/20], Loss: 0.5382, Validation Acc: 67.29%\n"
     ]
    },
    {
     "name": "stderr",
     "output_type": "stream",
     "text": [
      "\u001b[32m[I 2023-05-03 09:32:24,168]\u001b[0m Trial 57 finished with value: 67.03269278762166 and parameters: {'hidden_size': 77, 'num_layers': 1, 'learning_rate': 0.0008924496134178836}. Best is trial 49 with value: 67.28225605190916.\u001b[0m\n"
     ]
    },
    {
     "name": "stdout",
     "output_type": "stream",
     "text": [
      "Epoch [20/20], Loss: 0.5632, Validation Acc: 67.03%\n"
     ]
    },
    {
     "name": "stderr",
     "output_type": "stream",
     "text": [
      "\u001b[32m[I 2023-05-03 09:32:29,163]\u001b[0m Trial 58 pruned. \u001b[0m\n"
     ]
    },
    {
     "name": "stdout",
     "output_type": "stream",
     "text": [
      "Epoch [1/20], Loss: 0.6062, Validation Acc: 66.78%\n"
     ]
    },
    {
     "name": "stderr",
     "output_type": "stream",
     "text": [
      "\u001b[32m[I 2023-05-03 09:32:33,710]\u001b[0m Trial 59 pruned. \u001b[0m\n"
     ]
    },
    {
     "name": "stdout",
     "output_type": "stream",
     "text": [
      "Epoch [1/20], Loss: 0.6185, Validation Acc: 66.81%\n"
     ]
    },
    {
     "name": "stderr",
     "output_type": "stream",
     "text": [
      "\u001b[32m[I 2023-05-03 09:32:38,713]\u001b[0m Trial 60 pruned. \u001b[0m\n"
     ]
    },
    {
     "name": "stdout",
     "output_type": "stream",
     "text": [
      "Epoch [1/20], Loss: 0.6929, Validation Acc: 65.97%\n"
     ]
    },
    {
     "name": "stderr",
     "output_type": "stream",
     "text": [
      "\u001b[32m[I 2023-05-03 09:32:41,034]\u001b[0m Trial 61 pruned. \u001b[0m\n"
     ]
    },
    {
     "name": "stdout",
     "output_type": "stream",
     "text": [
      "Epoch [1/20], Loss: 0.6216, Validation Acc: 65.87%\n"
     ]
    },
    {
     "name": "stderr",
     "output_type": "stream",
     "text": [
      "\u001b[32m[I 2023-05-03 09:32:45,471]\u001b[0m Trial 62 pruned. \u001b[0m\n"
     ]
    },
    {
     "name": "stdout",
     "output_type": "stream",
     "text": [
      "Epoch [1/20], Loss: 0.5323, Validation Acc: 66.95%\n"
     ]
    },
    {
     "name": "stderr",
     "output_type": "stream",
     "text": [
      "\u001b[32m[I 2023-05-03 09:32:50,185]\u001b[0m Trial 63 pruned. \u001b[0m\n"
     ]
    },
    {
     "name": "stdout",
     "output_type": "stream",
     "text": [
      "Epoch [1/20], Loss: 0.5509, Validation Acc: 66.91%\n"
     ]
    },
    {
     "name": "stderr",
     "output_type": "stream",
     "text": [
      "\u001b[32m[I 2023-05-03 09:32:54,307]\u001b[0m Trial 64 pruned. \u001b[0m\n"
     ]
    },
    {
     "name": "stdout",
     "output_type": "stream",
     "text": [
      "Epoch [1/20], Loss: 0.5361, Validation Acc: 66.30%\n"
     ]
    },
    {
     "name": "stderr",
     "output_type": "stream",
     "text": [
      "\u001b[32m[I 2023-05-03 09:33:00,728]\u001b[0m Trial 65 pruned. \u001b[0m\n"
     ]
    },
    {
     "name": "stdout",
     "output_type": "stream",
     "text": [
      "Epoch [1/20], Loss: 0.6368, Validation Acc: 66.93%\n"
     ]
    },
    {
     "name": "stderr",
     "output_type": "stream",
     "text": [
      "\u001b[32m[I 2023-05-03 09:33:09,510]\u001b[0m Trial 66 pruned. \u001b[0m\n"
     ]
    },
    {
     "name": "stdout",
     "output_type": "stream",
     "text": [
      "Epoch [1/20], Loss: 0.6734, Validation Acc: 65.72%\n"
     ]
    },
    {
     "name": "stderr",
     "output_type": "stream",
     "text": [
      "\u001b[32m[I 2023-05-03 09:33:14,323]\u001b[0m Trial 67 pruned. \u001b[0m\n"
     ]
    },
    {
     "name": "stdout",
     "output_type": "stream",
     "text": [
      "Epoch [1/20], Loss: 0.6007, Validation Acc: 66.91%\n",
      "Epoch [1/20], Loss: 0.5728, Validation Acc: 67.05%\n",
      "Epoch [2/20], Loss: 0.6468, Validation Acc: 66.67%\n",
      "Epoch [3/20], Loss: 0.5675, Validation Acc: 66.70%\n",
      "Epoch [4/20], Loss: 0.5873, Validation Acc: 66.91%\n",
      "Epoch [5/20], Loss: 0.6792, Validation Acc: 66.71%\n",
      "Epoch [6/20], Loss: 0.6777, Validation Acc: 66.83%\n",
      "Epoch [7/20], Loss: 0.5816, Validation Acc: 66.76%\n",
      "Epoch [8/20], Loss: 0.5857, Validation Acc: 66.80%\n",
      "Epoch [9/20], Loss: 0.7001, Validation Acc: 66.38%\n",
      "Epoch [10/20], Loss: 0.6079, Validation Acc: 66.75%\n",
      "Epoch [11/20], Loss: 0.6006, Validation Acc: 67.00%\n",
      "Epoch [12/20], Loss: 0.6628, Validation Acc: 66.81%\n",
      "Epoch [13/20], Loss: 0.6588, Validation Acc: 66.68%\n",
      "Epoch [14/20], Loss: 0.5706, Validation Acc: 66.55%\n",
      "Epoch [15/20], Loss: 0.5844, Validation Acc: 66.81%\n",
      "Epoch [16/20], Loss: 0.5639, Validation Acc: 67.05%\n",
      "Epoch [17/20], Loss: 0.5092, Validation Acc: 66.82%\n",
      "Epoch [18/20], Loss: 0.5842, Validation Acc: 66.81%\n",
      "Epoch [19/20], Loss: 0.6242, Validation Acc: 66.71%\n"
     ]
    },
    {
     "name": "stderr",
     "output_type": "stream",
     "text": [
      "\u001b[32m[I 2023-05-03 09:35:39,530]\u001b[0m Trial 68 finished with value: 67.0576491140504 and parameters: {'hidden_size': 217, 'num_layers': 1, 'learning_rate': 0.0006449714840521403}. Best is trial 49 with value: 67.28225605190916.\u001b[0m\n"
     ]
    },
    {
     "name": "stdout",
     "output_type": "stream",
     "text": [
      "Epoch [20/20], Loss: 0.6372, Validation Acc: 67.06%\n"
     ]
    },
    {
     "name": "stderr",
     "output_type": "stream",
     "text": [
      "\u001b[32m[I 2023-05-03 09:35:47,077]\u001b[0m Trial 69 pruned. \u001b[0m\n"
     ]
    },
    {
     "name": "stdout",
     "output_type": "stream",
     "text": [
      "Epoch [1/20], Loss: 0.6098, Validation Acc: 66.67%\n"
     ]
    },
    {
     "name": "stderr",
     "output_type": "stream",
     "text": [
      "\u001b[32m[I 2023-05-03 09:35:55,276]\u001b[0m Trial 70 pruned. \u001b[0m\n"
     ]
    },
    {
     "name": "stdout",
     "output_type": "stream",
     "text": [
      "Epoch [1/20], Loss: 0.5686, Validation Acc: 66.51%\n"
     ]
    },
    {
     "name": "stderr",
     "output_type": "stream",
     "text": [
      "\u001b[32m[I 2023-05-03 09:36:03,627]\u001b[0m Trial 71 pruned. \u001b[0m\n"
     ]
    },
    {
     "name": "stdout",
     "output_type": "stream",
     "text": [
      "Epoch [1/20], Loss: 0.6745, Validation Acc: 63.94%\n",
      "Epoch [1/20], Loss: 0.5992, Validation Acc: 67.26%\n",
      "Epoch [2/20], Loss: 0.7056, Validation Acc: 66.31%\n",
      "Epoch [3/20], Loss: 0.7068, Validation Acc: 66.56%\n",
      "Epoch [4/20], Loss: 0.6270, Validation Acc: 66.68%\n",
      "Epoch [5/20], Loss: 0.6368, Validation Acc: 66.53%\n",
      "Epoch [6/20], Loss: 0.6311, Validation Acc: 66.87%\n",
      "Epoch [7/20], Loss: 0.5548, Validation Acc: 66.85%\n",
      "Epoch [8/20], Loss: 0.6846, Validation Acc: 66.88%\n",
      "Epoch [9/20], Loss: 0.6522, Validation Acc: 66.68%\n",
      "Epoch [10/20], Loss: 0.6171, Validation Acc: 66.77%\n",
      "Epoch [11/20], Loss: 0.5558, Validation Acc: 66.77%\n",
      "Epoch [12/20], Loss: 0.6657, Validation Acc: 66.71%\n",
      "Epoch [13/20], Loss: 0.6699, Validation Acc: 66.51%\n",
      "Epoch [14/20], Loss: 0.5746, Validation Acc: 66.37%\n",
      "Epoch [15/20], Loss: 0.5785, Validation Acc: 66.25%\n",
      "Epoch [16/20], Loss: 0.5766, Validation Acc: 66.23%\n",
      "Epoch [17/20], Loss: 0.6591, Validation Acc: 66.77%\n",
      "Epoch [18/20], Loss: 0.6626, Validation Acc: 66.12%\n",
      "Epoch [19/20], Loss: 0.6757, Validation Acc: 66.25%\n"
     ]
    },
    {
     "name": "stderr",
     "output_type": "stream",
     "text": [
      "\u001b[32m[I 2023-05-03 09:40:03,009]\u001b[0m Trial 72 finished with value: 66.50860993261793 and parameters: {'hidden_size': 173, 'num_layers': 2, 'learning_rate': 0.0006243534174223176}. Best is trial 49 with value: 67.28225605190916.\u001b[0m\n"
     ]
    },
    {
     "name": "stdout",
     "output_type": "stream",
     "text": [
      "Epoch [20/20], Loss: 0.6262, Validation Acc: 66.51%\n"
     ]
    },
    {
     "name": "stderr",
     "output_type": "stream",
     "text": [
      "\u001b[32m[I 2023-05-03 09:40:07,626]\u001b[0m Trial 73 pruned. \u001b[0m\n"
     ]
    },
    {
     "name": "stdout",
     "output_type": "stream",
     "text": [
      "Epoch [1/20], Loss: 0.6597, Validation Acc: 66.56%\n",
      "Epoch [1/20], Loss: 0.6266, Validation Acc: 67.11%\n",
      "Epoch [2/20], Loss: 0.5637, Validation Acc: 66.42%\n",
      "Epoch [3/20], Loss: 0.5754, Validation Acc: 66.97%\n",
      "Epoch [4/20], Loss: 0.6541, Validation Acc: 66.81%\n",
      "Epoch [5/20], Loss: 0.5806, Validation Acc: 67.18%\n",
      "Epoch [6/20], Loss: 0.6891, Validation Acc: 66.90%\n",
      "Epoch [7/20], Loss: 0.6005, Validation Acc: 66.76%\n",
      "Epoch [8/20], Loss: 0.5679, Validation Acc: 67.06%\n",
      "Epoch [9/20], Loss: 0.5648, Validation Acc: 66.82%\n",
      "Epoch [10/20], Loss: 0.5846, Validation Acc: 67.02%\n",
      "Epoch [11/20], Loss: 0.5961, Validation Acc: 66.85%\n",
      "Epoch [12/20], Loss: 0.5961, Validation Acc: 67.06%\n",
      "Epoch [13/20], Loss: 0.6343, Validation Acc: 66.93%\n",
      "Epoch [14/20], Loss: 0.6141, Validation Acc: 67.03%\n",
      "Epoch [15/20], Loss: 0.6644, Validation Acc: 66.60%\n",
      "Epoch [16/20], Loss: 0.5987, Validation Acc: 66.95%\n",
      "Epoch [17/20], Loss: 0.5973, Validation Acc: 66.95%\n",
      "Epoch [18/20], Loss: 0.5655, Validation Acc: 66.68%\n",
      "Epoch [19/20], Loss: 0.5749, Validation Acc: 66.86%\n"
     ]
    },
    {
     "name": "stderr",
     "output_type": "stream",
     "text": [
      "\u001b[32m[I 2023-05-03 09:41:04,791]\u001b[0m Trial 74 finished with value: 66.90791115547792 and parameters: {'hidden_size': 29, 'num_layers': 1, 'learning_rate': 0.0009699408070868291}. Best is trial 49 with value: 67.28225605190916.\u001b[0m\n"
     ]
    },
    {
     "name": "stdout",
     "output_type": "stream",
     "text": [
      "Epoch [20/20], Loss: 0.5389, Validation Acc: 66.91%\n"
     ]
    },
    {
     "name": "stderr",
     "output_type": "stream",
     "text": [
      "\u001b[32m[I 2023-05-03 09:41:07,652]\u001b[0m Trial 75 pruned. \u001b[0m\n"
     ]
    },
    {
     "name": "stdout",
     "output_type": "stream",
     "text": [
      "Epoch [1/20], Loss: 0.6104, Validation Acc: 66.85%\n"
     ]
    },
    {
     "name": "stderr",
     "output_type": "stream",
     "text": [
      "\u001b[32m[I 2023-05-03 09:41:19,828]\u001b[0m Trial 76 pruned. \u001b[0m\n"
     ]
    },
    {
     "name": "stdout",
     "output_type": "stream",
     "text": [
      "Epoch [1/20], Loss: 0.6220, Validation Acc: 66.12%\n"
     ]
    },
    {
     "name": "stderr",
     "output_type": "stream",
     "text": [
      "\u001b[32m[I 2023-05-03 09:41:32,317]\u001b[0m Trial 77 pruned. \u001b[0m\n"
     ]
    },
    {
     "name": "stdout",
     "output_type": "stream",
     "text": [
      "Epoch [1/20], Loss: 0.6153, Validation Acc: 66.50%\n",
      "Epoch [1/20], Loss: 0.6058, Validation Acc: 67.10%\n",
      "Epoch [2/20], Loss: 0.6867, Validation Acc: 66.51%\n",
      "Epoch [3/20], Loss: 0.5486, Validation Acc: 66.77%\n",
      "Epoch [4/20], Loss: 0.5541, Validation Acc: 66.48%\n",
      "Epoch [5/20], Loss: 0.6303, Validation Acc: 67.03%\n",
      "Epoch [6/20], Loss: 0.6022, Validation Acc: 66.87%\n",
      "Epoch [7/20], Loss: 0.5156, Validation Acc: 66.61%\n",
      "Epoch [8/20], Loss: 0.5643, Validation Acc: 66.71%\n",
      "Epoch [9/20], Loss: 0.6559, Validation Acc: 66.81%\n",
      "Epoch [10/20], Loss: 0.5798, Validation Acc: 66.75%\n",
      "Epoch [11/20], Loss: 0.5594, Validation Acc: 66.88%\n",
      "Epoch [12/20], Loss: 0.5876, Validation Acc: 66.86%\n",
      "Epoch [13/20], Loss: 0.6385, Validation Acc: 66.73%\n",
      "Epoch [14/20], Loss: 0.5037, Validation Acc: 66.93%\n",
      "Epoch [15/20], Loss: 0.6660, Validation Acc: 66.38%\n",
      "Epoch [16/20], Loss: 0.5877, Validation Acc: 66.78%\n",
      "Epoch [17/20], Loss: 0.6432, Validation Acc: 66.81%\n",
      "Epoch [18/20], Loss: 0.5785, Validation Acc: 66.56%\n",
      "Epoch [19/20], Loss: 0.6697, Validation Acc: 66.58%\n"
     ]
    },
    {
     "name": "stderr",
     "output_type": "stream",
     "text": [
      "\u001b[32m[I 2023-05-03 09:44:31,689]\u001b[0m Trial 78 finished with value: 66.90791115547792 and parameters: {'hidden_size': 251, 'num_layers': 1, 'learning_rate': 0.0006329246474161951}. Best is trial 49 with value: 67.28225605190916.\u001b[0m\n"
     ]
    },
    {
     "name": "stdout",
     "output_type": "stream",
     "text": [
      "Epoch [20/20], Loss: 0.5936, Validation Acc: 66.91%\n"
     ]
    },
    {
     "name": "stderr",
     "output_type": "stream",
     "text": [
      "\u001b[32m[I 2023-05-03 09:44:40,964]\u001b[0m Trial 79 pruned. \u001b[0m\n"
     ]
    },
    {
     "name": "stdout",
     "output_type": "stream",
     "text": [
      "Epoch [1/20], Loss: 0.5505, Validation Acc: 66.33%\n"
     ]
    },
    {
     "name": "stderr",
     "output_type": "stream",
     "text": [
      "\u001b[32m[I 2023-05-03 09:44:46,606]\u001b[0m Trial 80 pruned. \u001b[0m\n"
     ]
    },
    {
     "name": "stdout",
     "output_type": "stream",
     "text": [
      "Epoch [1/20], Loss: 0.5561, Validation Acc: 66.70%\n",
      "Epoch [1/20], Loss: 0.6396, Validation Acc: 67.28%\n",
      "Epoch [2/20], Loss: 0.6536, Validation Acc: 67.12%\n",
      "Epoch [3/20], Loss: 0.6124, Validation Acc: 66.55%\n",
      "Epoch [4/20], Loss: 0.6097, Validation Acc: 66.75%\n",
      "Epoch [5/20], Loss: 0.5656, Validation Acc: 66.72%\n",
      "Epoch [6/20], Loss: 0.6350, Validation Acc: 66.70%\n",
      "Epoch [7/20], Loss: 0.5932, Validation Acc: 66.83%\n",
      "Epoch [8/20], Loss: 0.5817, Validation Acc: 66.81%\n",
      "Epoch [9/20], Loss: 0.5976, Validation Acc: 66.98%\n",
      "Epoch [10/20], Loss: 0.5339, Validation Acc: 66.93%\n",
      "Epoch [11/20], Loss: 0.6108, Validation Acc: 67.07%\n",
      "Epoch [12/20], Loss: 0.5517, Validation Acc: 66.81%\n",
      "Epoch [13/20], Loss: 0.6163, Validation Acc: 66.78%\n",
      "Epoch [14/20], Loss: 0.5324, Validation Acc: 66.96%\n",
      "Epoch [15/20], Loss: 0.6366, Validation Acc: 66.93%\n",
      "Epoch [16/20], Loss: 0.5553, Validation Acc: 66.81%\n",
      "Epoch [17/20], Loss: 0.5810, Validation Acc: 67.00%\n",
      "Epoch [18/20], Loss: 0.5598, Validation Acc: 66.88%\n",
      "Epoch [19/20], Loss: 0.6178, Validation Acc: 66.73%\n"
     ]
    },
    {
     "name": "stderr",
     "output_type": "stream",
     "text": [
      "\u001b[32m[I 2023-05-03 09:47:18,051]\u001b[0m Trial 81 finished with value: 66.84552033940604 and parameters: {'hidden_size': 224, 'num_layers': 1, 'learning_rate': 0.0003284440636981341}. Best is trial 49 with value: 67.28225605190916.\u001b[0m\n"
     ]
    },
    {
     "name": "stdout",
     "output_type": "stream",
     "text": [
      "Epoch [20/20], Loss: 0.5664, Validation Acc: 66.85%\n"
     ]
    },
    {
     "name": "stderr",
     "output_type": "stream",
     "text": [
      "\u001b[32m[I 2023-05-03 09:47:25,242]\u001b[0m Trial 82 pruned. \u001b[0m\n"
     ]
    },
    {
     "name": "stdout",
     "output_type": "stream",
     "text": [
      "Epoch [1/20], Loss: 0.6886, Validation Acc: 66.98%\n"
     ]
    },
    {
     "name": "stderr",
     "output_type": "stream",
     "text": [
      "\u001b[32m[I 2023-05-03 09:47:30,869]\u001b[0m Trial 83 pruned. \u001b[0m\n"
     ]
    },
    {
     "name": "stdout",
     "output_type": "stream",
     "text": [
      "Epoch [1/20], Loss: 0.6389, Validation Acc: 66.85%\n",
      "Epoch [1/20], Loss: 0.6280, Validation Acc: 67.08%\n",
      "Epoch [2/20], Loss: 0.6325, Validation Acc: 66.73%\n",
      "Epoch [3/20], Loss: 0.6356, Validation Acc: 67.01%\n",
      "Epoch [4/20], Loss: 0.4906, Validation Acc: 66.98%\n",
      "Epoch [5/20], Loss: 0.5356, Validation Acc: 66.83%\n",
      "Epoch [6/20], Loss: 0.6578, Validation Acc: 66.66%\n",
      "Epoch [7/20], Loss: 0.6393, Validation Acc: 66.80%\n",
      "Epoch [8/20], Loss: 0.5442, Validation Acc: 66.80%\n",
      "Epoch [9/20], Loss: 0.5878, Validation Acc: 66.85%\n",
      "Epoch [10/20], Loss: 0.5691, Validation Acc: 66.85%\n",
      "Epoch [11/20], Loss: 0.6162, Validation Acc: 66.88%\n",
      "Epoch [12/20], Loss: 0.6870, Validation Acc: 67.00%\n",
      "Epoch [13/20], Loss: 0.5588, Validation Acc: 66.87%\n",
      "Epoch [14/20], Loss: 0.5798, Validation Acc: 66.55%\n",
      "Epoch [15/20], Loss: 0.5646, Validation Acc: 66.73%\n",
      "Epoch [16/20], Loss: 0.6047, Validation Acc: 66.55%\n",
      "Epoch [17/20], Loss: 0.5235, Validation Acc: 66.71%\n",
      "Epoch [18/20], Loss: 0.6182, Validation Acc: 66.46%\n",
      "Epoch [19/20], Loss: 0.6267, Validation Acc: 66.66%\n"
     ]
    },
    {
     "name": "stderr",
     "output_type": "stream",
     "text": [
      "\u001b[32m[I 2023-05-03 09:50:04,071]\u001b[0m Trial 84 finished with value: 66.50860993261793 and parameters: {'hidden_size': 286, 'num_layers': 1, 'learning_rate': 0.0005756994610005637}. Best is trial 49 with value: 67.28225605190916.\u001b[0m\n"
     ]
    },
    {
     "name": "stdout",
     "output_type": "stream",
     "text": [
      "Epoch [20/20], Loss: 0.6126, Validation Acc: 66.51%\n"
     ]
    },
    {
     "name": "stderr",
     "output_type": "stream",
     "text": [
      "\u001b[32m[I 2023-05-03 09:50:10,284]\u001b[0m Trial 85 pruned. \u001b[0m\n"
     ]
    },
    {
     "name": "stdout",
     "output_type": "stream",
     "text": [
      "Epoch [1/20], Loss: 0.5304, Validation Acc: 66.76%\n",
      "Epoch [1/20], Loss: 0.6139, Validation Acc: 67.06%\n",
      "Epoch [2/20], Loss: 0.5777, Validation Acc: 66.73%\n",
      "Epoch [3/20], Loss: 0.5594, Validation Acc: 66.70%\n",
      "Epoch [4/20], Loss: 0.5873, Validation Acc: 66.81%\n",
      "Epoch [5/20], Loss: 0.6201, Validation Acc: 66.52%\n",
      "Epoch [6/20], Loss: 0.5798, Validation Acc: 66.97%\n",
      "Epoch [7/20], Loss: 0.5881, Validation Acc: 66.78%\n",
      "Epoch [8/20], Loss: 0.6274, Validation Acc: 66.82%\n",
      "Epoch [9/20], Loss: 0.6036, Validation Acc: 66.97%\n",
      "Epoch [10/20], Loss: 0.6589, Validation Acc: 66.97%\n",
      "Epoch [11/20], Loss: 0.5832, Validation Acc: 66.98%\n",
      "Epoch [12/20], Loss: 0.5716, Validation Acc: 66.73%\n",
      "Epoch [13/20], Loss: 0.6360, Validation Acc: 66.98%\n",
      "Epoch [14/20], Loss: 0.5921, Validation Acc: 66.68%\n",
      "Epoch [15/20], Loss: 0.5668, Validation Acc: 66.92%\n",
      "Epoch [16/20], Loss: 0.5419, Validation Acc: 66.57%\n",
      "Epoch [17/20], Loss: 0.5502, Validation Acc: 66.92%\n",
      "Epoch [18/20], Loss: 0.6272, Validation Acc: 66.91%\n",
      "Epoch [19/20], Loss: 0.5645, Validation Acc: 66.87%\n"
     ]
    },
    {
     "name": "stderr",
     "output_type": "stream",
     "text": [
      "\u001b[32m[I 2023-05-03 09:52:15,567]\u001b[0m Trial 86 finished with value: 66.87047666583479 and parameters: {'hidden_size': 255, 'num_layers': 1, 'learning_rate': 0.0002671252603187608}. Best is trial 49 with value: 67.28225605190916.\u001b[0m\n"
     ]
    },
    {
     "name": "stdout",
     "output_type": "stream",
     "text": [
      "Epoch [20/20], Loss: 0.6821, Validation Acc: 66.87%\n",
      "Epoch [1/20], Loss: 0.5860, Validation Acc: 67.19%\n",
      "Epoch [2/20], Loss: 0.5749, Validation Acc: 66.91%\n",
      "Epoch [3/20], Loss: 0.6902, Validation Acc: 66.35%\n",
      "Epoch [4/20], Loss: 0.5658, Validation Acc: 66.86%\n",
      "Epoch [5/20], Loss: 0.6542, Validation Acc: 66.93%\n",
      "Epoch [6/20], Loss: 0.6232, Validation Acc: 66.83%\n",
      "Epoch [7/20], Loss: 0.6251, Validation Acc: 66.87%\n",
      "Epoch [8/20], Loss: 0.6229, Validation Acc: 66.62%\n",
      "Epoch [9/20], Loss: 0.6149, Validation Acc: 66.48%\n",
      "Epoch [10/20], Loss: 0.5989, Validation Acc: 66.97%\n",
      "Epoch [11/20], Loss: 0.6029, Validation Acc: 67.13%\n",
      "Epoch [12/20], Loss: 0.5720, Validation Acc: 66.57%\n",
      "Epoch [13/20], Loss: 0.5995, Validation Acc: 66.77%\n",
      "Epoch [14/20], Loss: 0.6345, Validation Acc: 66.72%\n",
      "Epoch [15/20], Loss: 0.5264, Validation Acc: 66.92%\n",
      "Epoch [16/20], Loss: 0.6459, Validation Acc: 67.08%\n",
      "Epoch [17/20], Loss: 0.5888, Validation Acc: 66.63%\n",
      "Epoch [18/20], Loss: 0.6228, Validation Acc: 66.67%\n",
      "Epoch [19/20], Loss: 0.6651, Validation Acc: 66.71%\n"
     ]
    },
    {
     "name": "stderr",
     "output_type": "stream",
     "text": [
      "\u001b[32m[I 2023-05-03 09:54:31,079]\u001b[0m Trial 87 finished with value: 66.60843523833292 and parameters: {'hidden_size': 250, 'num_layers': 1, 'learning_rate': 0.0013532015609983917}. Best is trial 49 with value: 67.28225605190916.\u001b[0m\n"
     ]
    },
    {
     "name": "stdout",
     "output_type": "stream",
     "text": [
      "Epoch [20/20], Loss: 0.6436, Validation Acc: 66.61%\n"
     ]
    },
    {
     "name": "stderr",
     "output_type": "stream",
     "text": [
      "\u001b[32m[I 2023-05-03 09:54:37,647]\u001b[0m Trial 88 pruned. \u001b[0m\n"
     ]
    },
    {
     "name": "stdout",
     "output_type": "stream",
     "text": [
      "Epoch [1/20], Loss: 0.6653, Validation Acc: 66.95%\n"
     ]
    },
    {
     "name": "stderr",
     "output_type": "stream",
     "text": [
      "\u001b[32m[I 2023-05-03 09:54:44,897]\u001b[0m Trial 89 pruned. \u001b[0m\n"
     ]
    },
    {
     "name": "stdout",
     "output_type": "stream",
     "text": [
      "Epoch [1/20], Loss: 0.5491, Validation Acc: 66.75%\n"
     ]
    },
    {
     "name": "stderr",
     "output_type": "stream",
     "text": [
      "\u001b[32m[I 2023-05-03 09:54:47,189]\u001b[0m Trial 90 pruned. \u001b[0m\n"
     ]
    },
    {
     "name": "stdout",
     "output_type": "stream",
     "text": [
      "Epoch [1/20], Loss: 0.6456, Validation Acc: 66.28%\n",
      "Epoch [1/20], Loss: 0.6352, Validation Acc: 67.21%\n",
      "Epoch [2/20], Loss: 0.5917, Validation Acc: 66.73%\n",
      "Epoch [3/20], Loss: 0.6389, Validation Acc: 67.17%\n",
      "Epoch [4/20], Loss: 0.6423, Validation Acc: 66.51%\n",
      "Epoch [5/20], Loss: 0.5693, Validation Acc: 66.96%\n",
      "Epoch [6/20], Loss: 0.5521, Validation Acc: 66.83%\n",
      "Epoch [7/20], Loss: 0.5926, Validation Acc: 67.23%\n",
      "Epoch [8/20], Loss: 0.5953, Validation Acc: 66.75%\n",
      "Epoch [9/20], Loss: 0.7029, Validation Acc: 67.08%\n",
      "Epoch [10/20], Loss: 0.6028, Validation Acc: 66.85%\n",
      "Epoch [11/20], Loss: 0.5770, Validation Acc: 66.73%\n",
      "Epoch [12/20], Loss: 0.6222, Validation Acc: 66.77%\n",
      "Epoch [13/20], Loss: 0.4934, Validation Acc: 66.55%\n",
      "Epoch [14/20], Loss: 0.5970, Validation Acc: 66.50%\n",
      "Epoch [15/20], Loss: 0.5575, Validation Acc: 66.92%\n",
      "Epoch [16/20], Loss: 0.6403, Validation Acc: 67.02%\n",
      "Epoch [17/20], Loss: 0.6050, Validation Acc: 66.92%\n",
      "Epoch [18/20], Loss: 0.6806, Validation Acc: 67.17%\n",
      "Epoch [19/20], Loss: 0.6321, Validation Acc: 66.70%\n"
     ]
    },
    {
     "name": "stderr",
     "output_type": "stream",
     "text": [
      "\u001b[32m[I 2023-05-03 09:56:33,288]\u001b[0m Trial 91 finished with value: 66.87047666583479 and parameters: {'hidden_size': 228, 'num_layers': 1, 'learning_rate': 0.0008167870579220745}. Best is trial 49 with value: 67.28225605190916.\u001b[0m\n"
     ]
    },
    {
     "name": "stdout",
     "output_type": "stream",
     "text": [
      "Epoch [20/20], Loss: 0.5519, Validation Acc: 66.87%\n"
     ]
    },
    {
     "name": "stderr",
     "output_type": "stream",
     "text": [
      "\u001b[32m[I 2023-05-03 09:56:38,365]\u001b[0m Trial 92 pruned. \u001b[0m\n"
     ]
    },
    {
     "name": "stdout",
     "output_type": "stream",
     "text": [
      "Epoch [1/20], Loss: 0.5354, Validation Acc: 66.87%\n"
     ]
    },
    {
     "name": "stderr",
     "output_type": "stream",
     "text": [
      "\u001b[32m[I 2023-05-03 09:56:43,219]\u001b[0m Trial 93 pruned. \u001b[0m\n"
     ]
    },
    {
     "name": "stdout",
     "output_type": "stream",
     "text": [
      "Epoch [1/20], Loss: 0.6941, Validation Acc: 66.66%\n"
     ]
    },
    {
     "name": "stderr",
     "output_type": "stream",
     "text": [
      "\u001b[32m[I 2023-05-03 09:56:52,978]\u001b[0m Trial 94 pruned. \u001b[0m\n"
     ]
    },
    {
     "name": "stdout",
     "output_type": "stream",
     "text": [
      "Epoch [1/20], Loss: 0.5893, Validation Acc: 66.40%\n"
     ]
    },
    {
     "name": "stderr",
     "output_type": "stream",
     "text": [
      "\u001b[32m[I 2023-05-03 09:57:00,461]\u001b[0m Trial 95 pruned. \u001b[0m\n"
     ]
    },
    {
     "name": "stdout",
     "output_type": "stream",
     "text": [
      "Epoch [1/20], Loss: 0.6103, Validation Acc: 66.06%\n"
     ]
    },
    {
     "name": "stderr",
     "output_type": "stream",
     "text": [
      "\u001b[32m[I 2023-05-03 09:57:05,745]\u001b[0m Trial 96 pruned. \u001b[0m\n"
     ]
    },
    {
     "name": "stdout",
     "output_type": "stream",
     "text": [
      "Epoch [1/20], Loss: 0.6664, Validation Acc: 66.70%\n",
      "Epoch [1/20], Loss: 0.6251, Validation Acc: 67.11%\n",
      "Epoch [2/20], Loss: 0.6724, Validation Acc: 66.37%\n",
      "Epoch [3/20], Loss: 0.5204, Validation Acc: 66.67%\n",
      "Epoch [4/20], Loss: 0.5711, Validation Acc: 67.02%\n",
      "Epoch [5/20], Loss: 0.5410, Validation Acc: 67.02%\n",
      "Epoch [6/20], Loss: 0.5864, Validation Acc: 66.72%\n",
      "Epoch [7/20], Loss: 0.6509, Validation Acc: 66.72%\n",
      "Epoch [8/20], Loss: 0.5903, Validation Acc: 66.80%\n",
      "Epoch [9/20], Loss: 0.5975, Validation Acc: 67.03%\n",
      "Epoch [10/20], Loss: 0.6212, Validation Acc: 67.08%\n",
      "Epoch [11/20], Loss: 0.5527, Validation Acc: 66.68%\n",
      "Epoch [12/20], Loss: 0.5698, Validation Acc: 66.82%\n",
      "Epoch [13/20], Loss: 0.6712, Validation Acc: 66.70%\n",
      "Epoch [14/20], Loss: 0.6233, Validation Acc: 67.13%\n",
      "Epoch [15/20], Loss: 0.5885, Validation Acc: 66.97%\n",
      "Epoch [16/20], Loss: 0.5917, Validation Acc: 66.85%\n",
      "Epoch [17/20], Loss: 0.5630, Validation Acc: 66.86%\n",
      "Epoch [18/20], Loss: 0.5740, Validation Acc: 66.96%\n",
      "Epoch [19/20], Loss: 0.6202, Validation Acc: 66.77%\n"
     ]
    },
    {
     "name": "stderr",
     "output_type": "stream",
     "text": [
      "\u001b[32m[I 2023-05-03 09:58:05,493]\u001b[0m Trial 97 finished with value: 66.59595707511853 and parameters: {'hidden_size': 68, 'num_layers': 1, 'learning_rate': 0.000627193830666279}. Best is trial 49 with value: 67.28225605190916.\u001b[0m\n"
     ]
    },
    {
     "name": "stdout",
     "output_type": "stream",
     "text": [
      "Epoch [20/20], Loss: 0.6028, Validation Acc: 66.60%\n"
     ]
    },
    {
     "name": "stderr",
     "output_type": "stream",
     "text": [
      "\u001b[32m[I 2023-05-03 09:58:13,466]\u001b[0m Trial 98 pruned. \u001b[0m\n"
     ]
    },
    {
     "name": "stdout",
     "output_type": "stream",
     "text": [
      "Epoch [1/20], Loss: 0.6352, Validation Acc: 66.63%\n"
     ]
    },
    {
     "name": "stderr",
     "output_type": "stream",
     "text": [
      "\u001b[32m[I 2023-05-03 09:58:18,055]\u001b[0m Trial 99 pruned. \u001b[0m\n"
     ]
    },
    {
     "name": "stdout",
     "output_type": "stream",
     "text": [
      "Epoch [1/20], Loss: 0.6595, Validation Acc: 63.71%\n",
      "Best trial: 49, accuracy: 67.28225605190916\n",
      "Best hyperparameters: {'hidden_size': 72, 'num_layers': 1, 'learning_rate': 0.0006180540563092695}\n"
     ]
    }
   ],
   "source": [
    "# Specify the number of trials\n",
    "num_trials = 100\n",
    "study = optuna.create_study(direction=\"maximize\")\n",
    "study.optimize(objective, n_trials=num_trials)\n",
    "\n",
    "# Print the best trial\n",
    "best_trial = study.best_trial\n",
    "print(f\"Best trial: {best_trial.number}, accuracy: {best_trial.value}\")\n",
    "print(f\"Best hyperparameters: {best_trial.params}\")\n"
   ]
  },
  {
   "cell_type": "code",
   "execution_count": 24,
   "metadata": {},
   "outputs": [
    {
     "name": "stdout",
     "output_type": "stream",
     "text": [
      "Epoch [1/20], Loss: 0.6233\n",
      "Epoch [2/20], Loss: 0.5727\n",
      "Epoch [3/20], Loss: 0.6133\n",
      "Epoch [4/20], Loss: 0.5486\n",
      "Epoch [5/20], Loss: 0.6518\n",
      "Epoch [6/20], Loss: 0.5546\n",
      "Epoch [7/20], Loss: 0.5295\n",
      "Epoch [8/20], Loss: 0.6521\n",
      "Epoch [9/20], Loss: 0.6389\n",
      "Epoch [10/20], Loss: 0.5494\n",
      "Epoch [11/20], Loss: 0.6185\n",
      "Epoch [12/20], Loss: 0.5393\n",
      "Epoch [13/20], Loss: 0.5371\n",
      "Epoch [14/20], Loss: 0.5875\n",
      "Epoch [15/20], Loss: 0.6334\n",
      "Epoch [16/20], Loss: 0.5529\n",
      "Epoch [17/20], Loss: 0.6070\n",
      "Epoch [18/20], Loss: 0.6308\n",
      "Epoch [19/20], Loss: 0.5473\n",
      "Epoch [20/20], Loss: 0.6353\n"
     ]
    }
   ],
   "source": [
    "input_size = 135\n",
    "output_size = 2\n",
    "device = torch.device(\"cpu\")\n",
    "hidden_size = 72\n",
    "num_layers = 1\n",
    "learning_rate = 0.0006180540563092695\n",
    "num_epochs = 20\n",
    "model = RNN(input_size, hidden_size, output_size, num_layers).to(device)\n",
    "criterion = nn.CrossEntropyLoss()\n",
    "optimizer = optim.Adam(model.parameters(), lr=learning_rate)\n",
    "\n",
    "def train(model, train_loader, optimizer, criterion, num_epochs=10):\n",
    "    for epoch in range(num_epochs):\n",
    "        for i, (inputs, labels) in enumerate(train_loader):\n",
    "            inputs, labels = inputs.float().to(device), labels.long().to(device)\n",
    "\n",
    "            # Forward pass\n",
    "            outputs = model(inputs)\n",
    "            loss = criterion(outputs, labels)\n",
    "\n",
    "            # Backward pass and optimization\n",
    "            optimizer.zero_grad()\n",
    "            loss.backward()\n",
    "            optimizer.step()\n",
    "        print(f'Epoch [{epoch+1}/{num_epochs}], Loss: {loss.item():.4f}')\n",
    "\n",
    "train(model, train_loader, optimizer, criterion, num_epochs)\n"
   ]
  },
  {
   "cell_type": "code",
   "execution_count": 25,
   "metadata": {},
   "outputs": [
    {
     "name": "stdout",
     "output_type": "stream",
     "text": [
      "Test Accuracy: 67.01%\n"
     ]
    }
   ],
   "source": [
    "model.eval()\n",
    "with torch.no_grad():\n",
    "    correct = 0\n",
    "    total = 0\n",
    "    for inputs, labels in valid_loader:\n",
    "        inputs, labels = inputs.float(), labels.long()\n",
    "        outputs = model(inputs)\n",
    "        _, predicted = torch.max(outputs.data, 1)\n",
    "        total += labels.size(0)\n",
    "        correct += (predicted == labels).sum().item()\n",
    "    val_acc = correct / total\n",
    "    print(f'Test Accuracy: {100 * correct / total:.2f}%')\n"
   ]
  },
  {
   "cell_type": "code",
   "execution_count": null,
   "metadata": {},
   "outputs": [],
   "source": []
  }
 ],
 "metadata": {
  "kernelspec": {
   "display_name": "pytorch",
   "language": "python",
   "name": "python3"
  },
  "language_info": {
   "codemirror_mode": {
    "name": "ipython",
    "version": 3
   },
   "file_extension": ".py",
   "mimetype": "text/x-python",
   "name": "python",
   "nbconvert_exporter": "python",
   "pygments_lexer": "ipython3",
   "version": "3.10.9"
  },
  "orig_nbformat": 4
 },
 "nbformat": 4,
 "nbformat_minor": 2
}
